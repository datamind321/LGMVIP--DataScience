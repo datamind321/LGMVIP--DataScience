{
 "cells": [
  {
   "attachments": {
    "ltg.jpg": {
     "image/jpeg": "[encoded data removed]"
    }
   },
   "cell_type": "markdown",
   "id": "a6781a66",
   "metadata": {},
   "source": [
    "![ltg.jpg](attachment:ltg.jpg)"
   ]
  },
  {
   "cell_type": "markdown",
   "id": "ecdb8091",
   "metadata": {},
   "source": [
    "## Task - 4 Image to Pencil Sketch with Python\n",
    "- Author : **Rahul Rathour** \n",
    "- Data Science intern at LetsGrowMore"
   ]
  },
  {
   "cell_type": "code",
   "execution_count": 7,
   "id": "e0e74ec4",
   "metadata": {},
   "outputs": [],
   "source": [
    "import cv2\n",
    "import matplotlib.pyplot as plt"
   ]
  },
  {
   "cell_type": "markdown",
   "id": "456803a1",
   "metadata": {},
   "source": [
    "## Read the image file "
   ]
  },
  {
   "cell_type": "code",
   "execution_count": 4,
   "id": "6f0943d1",
   "metadata": {},
   "outputs": [],
   "source": [
    "image = cv2.imread('download.jpg')\n",
    "#convert to gray image\n",
    "gray_img = cv2.cvtColor(image,cv2.COLOR_BGR2GRAY)\n",
    "#convert gray image to inverted (negative) image \n",
    "invert=cv2.bitwise_not(gray_img)\n",
    "#convert inverted image to blur image\n",
    "blur=cv2.GaussianBlur(invert,(21,21),0)\n",
    "#combination of all three(gray_img,invert,blur)\n",
    "invert_blur = cv2.bitwise_not(blur)\n",
    "#convert to sketch\n",
    "sketch=cv2.divide(gray_img,invert_blur,scale=256.0)"
   ]
  },
  {
   "cell_type": "code",
   "execution_count": 5,
   "id": "f55d5fc4",
   "metadata": {},
   "outputs": [
    {
     "data": {
      "text/plain": [
       "True"
      ]
     },
     "execution_count": 5,
     "metadata": {},
     "output_type": "execute_result"
    }
   ],
   "source": [
    "#save the output\n",
    "cv2.imwrite('sketch.png',sketch)"
   ]
  },
  {
   "cell_type": "code",
   "execution_count": 13,
   "id": "97179930",
   "metadata": {},
   "outputs": [
    {
     "data": {
      "text/plain": [
       "-1"
      ]
     },
     "execution_count": 13,
     "metadata": {},
     "output_type": "execute_result"
    }
   ],
   "source": [
    "#show the output\n",
    "cv2.imshow('sketch.png',sketch)\n",
    "cv2.waitKey(0)"
   ]
  },
  {
   "cell_type": "code",
   "execution_count": 17,
   "id": "47579b13",
   "metadata": {},
   "outputs": [],
   "source": [
    "#creates a function\n",
    "def image_to_sketch(img):\n",
    "    image=cv2.imread(img)\n",
    "    gray_img=cv2.cvtColor(image,cv2.COLOR_BGR2GRAY)\n",
    "    invert=cv2.bitwise_not(gray_img)\n",
    "    blur=cv2.GaussianBlur(invert,(21,21),0)\n",
    "    invert_blur = cv2.bitwise_not(blur)\n",
    "    sketch=cv2.divide(gray_img,invert_blur,scale=256.0)\n",
    "    cv2.imwrite('sketch.png',sketch)\n",
    "    cv2.imshow('sketch.png',sketch)\n",
    "    cv2.waitKey(0)    "
   ]
  },
  {
   "cell_type": "markdown",
   "id": "29744b88",
   "metadata": {},
   "source": [
    "**Let's Check Image Convert to Sketch**"
   ]
  },
  {
   "cell_type": "code",
   "execution_count": 24,
   "id": "d2e4ddb8",
   "metadata": {},
   "outputs": [],
   "source": [
    "image_to_sketch('pikachu.jpg')"
   ]
  }
 ],
 "metadata": {
  "kernelspec": {
   "display_name": "Python 3",
   "language": "python",
   "name": "python3"
  },
  "language_info": {
   "codemirror_mode": {
    "name": "ipython",
    "version": 3
   },
   "file_extension": ".py",
   "mimetype": "text/x-python",
   "name": "python",
   "nbconvert_exporter": "python",
   "pygments_lexer": "ipython3",
   "version": "3.8.8"
  }
 },
 "nbformat": 4,
 "nbformat_minor": 5
}
