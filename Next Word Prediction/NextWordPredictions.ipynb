{
  "nbformat": 4,
  "nbformat_minor": 0,
  "metadata": {
    "colab": {
      "provenance": []
    },
    "kernelspec": {
      "name": "python3",
      "display_name": "Python 3"
    },
    "language_info": {
      "name": "python"
    },
    "accelerator": "GPU",
    "gpuClass": "standard"
  },
  "cells": [
    {
      "cell_type": "markdown",
      "source": [
        "## Task - 6 Next Word Prediction Using LSTM \n",
        "\n",
        "- Author : **Rahul Rathour** \n",
        "- Data Science intern at LetsGrowMore\n",
        "- link for the text file : https://www.gutenberg.org/cache/epub/1513/pg1513.txt\n",
        "\n",
        "- References : https://ishwargautam.blogspot.com/2021/07/next-word-prediction-using-lstm.html"
      ],
      "metadata": {
        "id": "l4pWGxNHQXUu"
      }
    },
    {
      "cell_type": "code",
      "execution_count": 1,
      "metadata": {
        "id": "fnEgBTlmONmn"
      },
      "outputs": [],
      "source": [
        "import tensorflow as tf\n",
        "from tensorflow.keras.preprocessing.text import Tokenizer\n",
        "from tensorflow.keras.layers import Embedding, LSTM,Dense\n",
        "from tensorflow.keras.models import Sequential\n",
        "from tensorflow.keras.utils import to_categorical\n",
        "from tensorflow.keras.optimizers import Adam\n",
        "import pickle\n",
        "import numpy as np\n",
        "import os"
      ]
    },
    {
      "cell_type": "code",
      "source": [
        "from google.colab import files\n",
        "uploaded = files.upload()"
      ],
      "metadata": {
        "colab": {
          "base_uri": "https://localhost:8080/",
          "height": 73
        },
        "id": "EQ62onK2OaUd",
        "outputId": "f76fdb9b-a8d9-4012-a8b1-4f397811eede"
      },
      "execution_count": 2,
      "outputs": [
        {
          "output_type": "display_data",
          "data": {
            "text/plain": [
              "<IPython.core.display.HTML object>"
            ],
            "text/html": [
              "\n",
              "     <input type=\"file\" id=\"files-8c962919-08f4-4a44-92bd-f1502c1a3ed8\" name=\"files[]\" multiple disabled\n",
              "        style=\"border:none\" />\n",
              "     <output id=\"result-8c962919-08f4-4a44-92bd-f1502c1a3ed8\">\n",
              "      Upload widget is only available when the cell has been executed in the\n",
              "      current browser session. Please rerun this cell to enable.\n",
              "      </output>\n",
              "      <script>// Copyright 2017 Google LLC\n",
              "//\n",
              "// Licensed under the Apache License, Version 2.0 (the \"License\");\n",
              "// you may not use this file except in compliance with the License.\n",
              "// You may obtain a copy of the License at\n",
              "//\n",
              "//      http://www.apache.org/licenses/LICENSE-2.0\n",
              "//\n",
              "// Unless required by applicable law or agreed to in writing, software\n",
              "// distributed under the License is distributed on an \"AS IS\" BASIS,\n",
              "// WITHOUT WARRANTIES OR CONDITIONS OF ANY KIND, either express or implied.\n",
              "// See the License for the specific language governing permissions and\n",
              "// limitations under the License.\n",
              "\n",
              "/**\n",
              " * @fileoverview Helpers for google.colab Python module.\n",
              " */\n",
              "(function(scope) {\n",
              "function span(text, styleAttributes = {}) {\n",
              "  const element = document.createElement('span');\n",
              "  element.textContent = text;\n",
              "  for (const key of Object.keys(styleAttributes)) {\n",
              "    element.style[key] = styleAttributes[key];\n",
              "  }\n",
              "  return element;\n",
              "}\n",
              "\n",
              "// Max number of bytes which will be uploaded at a time.\n",
              "const MAX_PAYLOAD_SIZE = 100 * 1024;\n",
              "\n",
              "function _uploadFiles(inputId, outputId) {\n",
              "  const steps = uploadFilesStep(inputId, outputId);\n",
              "  const outputElement = document.getElementById(outputId);\n",
              "  // Cache steps on the outputElement to make it available for the next call\n",
              "  // to uploadFilesContinue from Python.\n",
              "  outputElement.steps = steps;\n",
              "\n",
              "  return _uploadFilesContinue(outputId);\n",
              "}\n",
              "\n",
              "// This is roughly an async generator (not supported in the browser yet),\n",
              "// where there are multiple asynchronous steps and the Python side is going\n",
              "// to poll for completion of each step.\n",
              "// This uses a Promise to block the python side on completion of each step,\n",
              "// then passes the result of the previous step as the input to the next step.\n",
              "function _uploadFilesContinue(outputId) {\n",
              "  const outputElement = document.getElementById(outputId);\n",
              "  const steps = outputElement.steps;\n",
              "\n",
              "  const next = steps.next(outputElement.lastPromiseValue);\n",
              "  return Promise.resolve(next.value.promise).then((value) => {\n",
              "    // Cache the last promise value to make it available to the next\n",
              "    // step of the generator.\n",
              "    outputElement.lastPromiseValue = value;\n",
              "    return next.value.response;\n",
              "  });\n",
              "}\n",
              "\n",
              "/**\n",
              " * Generator function which is called between each async step of the upload\n",
              " * process.\n",
              " * @param {string} inputId Element ID of the input file picker element.\n",
              " * @param {string} outputId Element ID of the output display.\n",
              " * @return {!Iterable<!Object>} Iterable of next steps.\n",
              " */\n",
              "function* uploadFilesStep(inputId, outputId) {\n",
              "  const inputElement = document.getElementById(inputId);\n",
              "  inputElement.disabled = false;\n",
              "\n",
              "  const outputElement = document.getElementById(outputId);\n",
              "  outputElement.innerHTML = '';\n",
              "\n",
              "  const pickedPromise = new Promise((resolve) => {\n",
              "    inputElement.addEventListener('change', (e) => {\n",
              "      resolve(e.target.files);\n",
              "    });\n",
              "  });\n",
              "\n",
              "  const cancel = document.createElement('button');\n",
              "  inputElement.parentElement.appendChild(cancel);\n",
              "  cancel.textContent = 'Cancel upload';\n",
              "  const cancelPromise = new Promise((resolve) => {\n",
              "    cancel.onclick = () => {\n",
              "      resolve(null);\n",
              "    };\n",
              "  });\n",
              "\n",
              "  // Wait for the user to pick the files.\n",
              "  const files = yield {\n",
              "    promise: Promise.race([pickedPromise, cancelPromise]),\n",
              "    response: {\n",
              "      action: 'starting',\n",
              "    }\n",
              "  };\n",
              "\n",
              "  cancel.remove();\n",
              "\n",
              "  // Disable the input element since further picks are not allowed.\n",
              "  inputElement.disabled = true;\n",
              "\n",
              "  if (!files) {\n",
              "    return {\n",
              "      response: {\n",
              "        action: 'complete',\n",
              "      }\n",
              "    };\n",
              "  }\n",
              "\n",
              "  for (const file of files) {\n",
              "    const li = document.createElement('li');\n",
              "    li.append(span(file.name, {fontWeight: 'bold'}));\n",
              "    li.append(span(\n",
              "        `(${file.type || 'n/a'}) - ${file.size} bytes, ` +\n",
              "        `last modified: ${\n",
              "            file.lastModifiedDate ? file.lastModifiedDate.toLocaleDateString() :\n",
              "                                    'n/a'} - `));\n",
              "    const percent = span('0% done');\n",
              "    li.appendChild(percent);\n",
              "\n",
              "    outputElement.appendChild(li);\n",
              "\n",
              "    const fileDataPromise = new Promise((resolve) => {\n",
              "      const reader = new FileReader();\n",
              "      reader.onload = (e) => {\n",
              "        resolve(e.target.result);\n",
              "      };\n",
              "      reader.readAsArrayBuffer(file);\n",
              "    });\n",
              "    // Wait for the data to be ready.\n",
              "    let fileData = yield {\n",
              "      promise: fileDataPromise,\n",
              "      response: {\n",
              "        action: 'continue',\n",
              "      }\n",
              "    };\n",
              "\n",
              "    // Use a chunked sending to avoid message size limits. See b/62115660.\n",
              "    let position = 0;\n",
              "    do {\n",
              "      const length = Math.min(fileData.byteLength - position, MAX_PAYLOAD_SIZE);\n",
              "      const chunk = new Uint8Array(fileData, position, length);\n",
              "      position += length;\n",
              "\n",
              "      const base64 = btoa(String.fromCharCode.apply(null, chunk));\n",
              "      yield {\n",
              "        response: {\n",
              "          action: 'append',\n",
              "          file: file.name,\n",
              "          data: base64,\n",
              "        },\n",
              "      };\n",
              "\n",
              "      let percentDone = fileData.byteLength === 0 ?\n",
              "          100 :\n",
              "          Math.round((position / fileData.byteLength) * 100);\n",
              "      percent.textContent = `${percentDone}% done`;\n",
              "\n",
              "    } while (position < fileData.byteLength);\n",
              "  }\n",
              "\n",
              "  // All done.\n",
              "  yield {\n",
              "    response: {\n",
              "      action: 'complete',\n",
              "    }\n",
              "  };\n",
              "}\n",
              "\n",
              "scope.google = scope.google || {};\n",
              "scope.google.colab = scope.google.colab || {};\n",
              "scope.google.colab._files = {\n",
              "  _uploadFiles,\n",
              "  _uploadFilesContinue,\n",
              "};\n",
              "})(self);\n",
              "</script> "
            ]
          },
          "metadata": {}
        },
        {
          "output_type": "stream",
          "name": "stdout",
          "text": [
            "Saving romeo.txt to romeo.txt\n"
          ]
        }
      ]
    },
    {
      "cell_type": "code",
      "source": [
        "file=open('romeo.txt','r',encoding='utf8')"
      ],
      "metadata": {
        "id": "oL4SNIRFOlqN"
      },
      "execution_count": 3,
      "outputs": []
    },
    {
      "cell_type": "code",
      "source": [
        "lines = []\n",
        "for i in file:\n",
        "    lines.append(i)"
      ],
      "metadata": {
        "id": "NoFWa0ubO0rr"
      },
      "execution_count": 4,
      "outputs": []
    },
    {
      "cell_type": "code",
      "source": [
        "data=\"\"\n",
        "for i in lines:\n",
        "    data=\" \".join(lines)"
      ],
      "metadata": {
        "id": "n_2Hcr6zO3jh"
      },
      "execution_count": 5,
      "outputs": []
    },
    {
      "cell_type": "code",
      "source": [
        "data=data.replace('\\n','').replace('\\r','').replace('\\ufeff','').replace('“','').replace('”','')"
      ],
      "metadata": {
        "id": "FToDm2Y0O5XV"
      },
      "execution_count": 6,
      "outputs": []
    },
    {
      "cell_type": "code",
      "source": [
        "data=data.split()\n",
        "data=' '.join(data)\n",
        "data[:500]\n"
      ],
      "metadata": {
        "colab": {
          "base_uri": "https://localhost:8080/",
          "height": 104
        },
        "id": "wG1K_2fRO7SK",
        "outputId": "c4c24145-772f-4277-8589-00e3a14bd79b"
      },
      "execution_count": 7,
      "outputs": [
        {
          "output_type": "execute_result",
          "data": {
            "text/plain": [
              "'The Project Gutenberg eBook of Romeo and Juliet, by William Shakespeare This eBook is for the use of anyone anywhere in the United States and most other parts of the world at no cost and with almost no restrictions whatsoever. You may copy it, give it away or re-use it under the terms of the Project Gutenberg License included with this eBook or online at www.gutenberg.org. If you are not located in the United States, you will have to check the laws of the country where you are located before usi'"
            ],
            "application/vnd.google.colaboratory.intrinsic+json": {
              "type": "string"
            }
          },
          "metadata": {},
          "execution_count": 7
        }
      ]
    },
    {
      "cell_type": "code",
      "source": [
        "tokenizer=Tokenizer()\n",
        "tokenizer.fit_on_texts([data])"
      ],
      "metadata": {
        "id": "PV8kcY5dO-2v"
      },
      "execution_count": 8,
      "outputs": []
    },
    {
      "cell_type": "code",
      "source": [
        "#saving the tokenizer for predict function\n",
        "pickle.dump(tokenizer,open('token.pkl','wb'))"
      ],
      "metadata": {
        "id": "ZTDeTmdMPBes"
      },
      "execution_count": 9,
      "outputs": []
    },
    {
      "cell_type": "code",
      "source": [
        "sequence_data = tokenizer.texts_to_sequences([data])[0]\n",
        "sequence_data[:15]"
      ],
      "metadata": {
        "colab": {
          "base_uri": "https://localhost:8080/"
        },
        "id": "Nd3WgXRgPDE3",
        "outputId": "3d05fc75-2c74-4a21-fe65-d6311310bf58"
      },
      "execution_count": 10,
      "outputs": [
        {
          "output_type": "execute_result",
          "data": {
            "text/plain": [
              "[1, 53, 49, 306, 6, 12, 2, 22, 32, 967, 783, 16, 306, 8, 18]"
            ]
          },
          "metadata": {},
          "execution_count": 10
        }
      ]
    },
    {
      "cell_type": "code",
      "source": [
        "vocab_size=len(tokenizer.word_index) + 1\n",
        "print(vocab_size)"
      ],
      "metadata": {
        "colab": {
          "base_uri": "https://localhost:8080/"
        },
        "id": "YT30Exz7PFNf",
        "outputId": "8b690122-43e0-4631-da17-8f5355f40dd6"
      },
      "execution_count": 11,
      "outputs": [
        {
          "output_type": "stream",
          "name": "stdout",
          "text": [
            "4282\n"
          ]
        }
      ]
    },
    {
      "cell_type": "code",
      "source": [
        "sequences = []\n",
        "for i in range(3,len(sequence_data)):\n",
        "    words=sequence_data[i-3:i+1]\n",
        "    sequences.append(words)"
      ],
      "metadata": {
        "id": "2vGlfW6APG8r"
      },
      "execution_count": 12,
      "outputs": []
    },
    {
      "cell_type": "code",
      "source": [
        "print('The length of sequences',len(sequences))"
      ],
      "metadata": {
        "colab": {
          "base_uri": "https://localhost:8080/"
        },
        "id": "QTRfg1rFPIyo",
        "outputId": "8a22c802-a450-40ad-cd63-120d350a22ab"
      },
      "execution_count": 13,
      "outputs": [
        {
          "output_type": "stream",
          "name": "stdout",
          "text": [
            "The length of sequences 29349\n"
          ]
        }
      ]
    },
    {
      "cell_type": "code",
      "source": [
        "sequences=np.array(sequences)\n",
        "sequences[:10]"
      ],
      "metadata": {
        "colab": {
          "base_uri": "https://localhost:8080/"
        },
        "id": "FQgtoxSYPKVH",
        "outputId": "d7a47ddd-1ff2-40b6-bd23-e62c31ba77ce"
      },
      "execution_count": 14,
      "outputs": [
        {
          "output_type": "execute_result",
          "data": {
            "text/plain": [
              "array([[  1,  53,  49, 306],\n",
              "       [ 53,  49, 306,   6],\n",
              "       [ 49, 306,   6,  12],\n",
              "       [306,   6,  12,   2],\n",
              "       [  6,  12,   2,  22],\n",
              "       [ 12,   2,  22,  32],\n",
              "       [  2,  22,  32, 967],\n",
              "       [ 22,  32, 967, 783],\n",
              "       [ 32, 967, 783,  16],\n",
              "       [967, 783,  16, 306]])"
            ]
          },
          "metadata": {},
          "execution_count": 14
        }
      ]
    },
    {
      "cell_type": "code",
      "source": [
        "X=[]\n",
        "y=[]"
      ],
      "metadata": {
        "id": "-9KV83aVPMi8"
      },
      "execution_count": 15,
      "outputs": []
    },
    {
      "cell_type": "code",
      "source": [
        "for i in sequences:\n",
        "    X.append(i[0:3])\n",
        "    y.append(i[3])"
      ],
      "metadata": {
        "id": "3xnCaYGgPOQv"
      },
      "execution_count": 16,
      "outputs": []
    },
    {
      "cell_type": "code",
      "source": [
        "X=np.array(X)\n",
        "y=np.array(y)"
      ],
      "metadata": {
        "id": "RRhFMvmPPPu3"
      },
      "execution_count": 17,
      "outputs": []
    },
    {
      "cell_type": "code",
      "source": [
        "print('Data: ',X[:10])\n",
        "print('Response: ',y[:10])"
      ],
      "metadata": {
        "colab": {
          "base_uri": "https://localhost:8080/"
        },
        "id": "ltQmyDRSPRTn",
        "outputId": "efad3168-f072-40b5-e932-2da59e47ca41"
      },
      "execution_count": 18,
      "outputs": [
        {
          "output_type": "stream",
          "name": "stdout",
          "text": [
            "Data:  [[  1  53  49]\n",
            " [ 53  49 306]\n",
            " [ 49 306   6]\n",
            " [306   6  12]\n",
            " [  6  12   2]\n",
            " [ 12   2  22]\n",
            " [  2  22  32]\n",
            " [ 22  32 967]\n",
            " [ 32 967 783]\n",
            " [967 783  16]]\n",
            "Response:  [306   6  12   2  22  32 967 783  16 306]\n"
          ]
        }
      ]
    },
    {
      "cell_type": "code",
      "source": [
        "y=to_categorical(y,num_classes=vocab_size)\n",
        "y[:5]"
      ],
      "metadata": {
        "colab": {
          "base_uri": "https://localhost:8080/"
        },
        "id": "kXw4lpu5PSzL",
        "outputId": "538874e0-d358-4ac1-e8b4-d919d56159b5"
      },
      "execution_count": 19,
      "outputs": [
        {
          "output_type": "execute_result",
          "data": {
            "text/plain": [
              "array([[0., 0., 0., ..., 0., 0., 0.],\n",
              "       [0., 0., 0., ..., 0., 0., 0.],\n",
              "       [0., 0., 0., ..., 0., 0., 0.],\n",
              "       [0., 0., 1., ..., 0., 0., 0.],\n",
              "       [0., 0., 0., ..., 0., 0., 0.]], dtype=float32)"
            ]
          },
          "metadata": {},
          "execution_count": 19
        }
      ]
    },
    {
      "cell_type": "code",
      "source": [
        "model=Sequential()\n",
        "model.add(Embedding(vocab_size,10,input_length=3))\n",
        "model.add(LSTM(1000,return_sequences=True))\n",
        "model.add(LSTM(1000))\n",
        "model.add(Dense(1000,activation='relu'))\n",
        "model.add(Dense(vocab_size,activation='softmax'))"
      ],
      "metadata": {
        "id": "y8F-S-P0PUn8"
      },
      "execution_count": 20,
      "outputs": []
    },
    {
      "cell_type": "code",
      "source": [
        "model.summary()"
      ],
      "metadata": {
        "colab": {
          "base_uri": "https://localhost:8080/"
        },
        "id": "JHOAmrhoPWjs",
        "outputId": "526bb855-faf6-4587-9098-5353ae574d6d"
      },
      "execution_count": 21,
      "outputs": [
        {
          "output_type": "stream",
          "name": "stdout",
          "text": [
            "Model: \"sequential\"\n",
            "_________________________________________________________________\n",
            " Layer (type)                Output Shape              Param #   \n",
            "=================================================================\n",
            " embedding (Embedding)       (None, 3, 10)             42820     \n",
            "                                                                 \n",
            " lstm (LSTM)                 (None, 3, 1000)           4044000   \n",
            "                                                                 \n",
            " lstm_1 (LSTM)               (None, 1000)              8004000   \n",
            "                                                                 \n",
            " dense (Dense)               (None, 1000)              1001000   \n",
            "                                                                 \n",
            " dense_1 (Dense)             (None, 4282)              4286282   \n",
            "                                                                 \n",
            "=================================================================\n",
            "Total params: 17,378,102\n",
            "Trainable params: 17,378,102\n",
            "Non-trainable params: 0\n",
            "_________________________________________________________________\n"
          ]
        }
      ]
    },
    {
      "cell_type": "code",
      "source": [
        "\n",
        "from tensorflow.keras.callbacks import ModelCheckpoint\n",
        "checkpoint=ModelCheckpoint('next_words.h5',monitor='loss',verbose=1,save_best_only=True)\n",
        "model.compile(loss='categorical_crossentropy',optimizer=Adam(learning_rate=0.001))\n",
        "model.fit(X,y,epochs=100,batch_size=64,callbacks=[checkpoint])"
      ],
      "metadata": {
        "colab": {
          "base_uri": "https://localhost:8080/"
        },
        "id": "dlVzSRN9PYpC",
        "outputId": "791a4578-99dd-4ac5-86bb-9009a783f106"
      },
      "execution_count": 22,
      "outputs": [
        {
          "output_type": "stream",
          "name": "stdout",
          "text": [
            "Epoch 1/100\n",
            "459/459 [==============================] - ETA: 0s - loss: 6.8185\n",
            "Epoch 1: loss improved from inf to 6.81847, saving model to next_words.h5\n",
            "459/459 [==============================] - 21s 26ms/step - loss: 6.8185\n",
            "Epoch 2/100\n",
            "459/459 [==============================] - ETA: 0s - loss: 6.4549\n",
            "Epoch 2: loss improved from 6.81847 to 6.45490, saving model to next_words.h5\n",
            "459/459 [==============================] - 7s 15ms/step - loss: 6.4549\n",
            "Epoch 3/100\n",
            "459/459 [==============================] - ETA: 0s - loss: 6.1904\n",
            "Epoch 3: loss improved from 6.45490 to 6.19038, saving model to next_words.h5\n",
            "459/459 [==============================] - 7s 16ms/step - loss: 6.1904\n",
            "Epoch 4/100\n",
            "459/459 [==============================] - ETA: 0s - loss: 5.9327\n",
            "Epoch 4: loss improved from 6.19038 to 5.93268, saving model to next_words.h5\n",
            "459/459 [==============================] - 7s 15ms/step - loss: 5.9327\n",
            "Epoch 5/100\n",
            "459/459 [==============================] - ETA: 0s - loss: 5.6636\n",
            "Epoch 5: loss improved from 5.93268 to 5.66360, saving model to next_words.h5\n",
            "459/459 [==============================] - 7s 16ms/step - loss: 5.6636\n",
            "Epoch 6/100\n",
            "456/459 [============================>.] - ETA: 0s - loss: 5.4054\n",
            "Epoch 6: loss improved from 5.66360 to 5.40580, saving model to next_words.h5\n",
            "459/459 [==============================] - 7s 15ms/step - loss: 5.4058\n",
            "Epoch 7/100\n",
            "459/459 [==============================] - ETA: 0s - loss: 5.1629\n",
            "Epoch 7: loss improved from 5.40580 to 5.16285, saving model to next_words.h5\n",
            "459/459 [==============================] - 7s 16ms/step - loss: 5.1629\n",
            "Epoch 8/100\n",
            "459/459 [==============================] - ETA: 0s - loss: 4.9201\n",
            "Epoch 8: loss improved from 5.16285 to 4.92012, saving model to next_words.h5\n",
            "459/459 [==============================] - 7s 15ms/step - loss: 4.9201\n",
            "Epoch 9/100\n",
            "459/459 [==============================] - ETA: 0s - loss: 4.6658\n",
            "Epoch 9: loss improved from 4.92012 to 4.66583, saving model to next_words.h5\n",
            "459/459 [==============================] - 7s 15ms/step - loss: 4.6658\n",
            "Epoch 10/100\n",
            "459/459 [==============================] - ETA: 0s - loss: 4.3976\n",
            "Epoch 10: loss improved from 4.66583 to 4.39757, saving model to next_words.h5\n",
            "459/459 [==============================] - 7s 15ms/step - loss: 4.3976\n",
            "Epoch 11/100\n",
            "458/459 [============================>.] - ETA: 0s - loss: 4.1005\n",
            "Epoch 11: loss improved from 4.39757 to 4.10078, saving model to next_words.h5\n",
            "459/459 [==============================] - 7s 15ms/step - loss: 4.1008\n",
            "Epoch 12/100\n",
            "455/459 [============================>.] - ETA: 0s - loss: 3.7856\n",
            "Epoch 12: loss improved from 4.10078 to 3.78569, saving model to next_words.h5\n",
            "459/459 [==============================] - 7s 15ms/step - loss: 3.7857\n",
            "Epoch 13/100\n",
            "459/459 [==============================] - ETA: 0s - loss: 3.4766\n",
            "Epoch 13: loss improved from 3.78569 to 3.47657, saving model to next_words.h5\n",
            "459/459 [==============================] - 7s 16ms/step - loss: 3.4766\n",
            "Epoch 14/100\n",
            "457/459 [============================>.] - ETA: 0s - loss: 3.1724\n",
            "Epoch 14: loss improved from 3.47657 to 3.17383, saving model to next_words.h5\n",
            "459/459 [==============================] - 7s 15ms/step - loss: 3.1738\n",
            "Epoch 15/100\n",
            "457/459 [============================>.] - ETA: 0s - loss: 2.8859\n",
            "Epoch 15: loss improved from 3.17383 to 2.88648, saving model to next_words.h5\n",
            "459/459 [==============================] - 7s 15ms/step - loss: 2.8865\n",
            "Epoch 16/100\n",
            "456/459 [============================>.] - ETA: 0s - loss: 2.6235\n",
            "Epoch 16: loss improved from 2.88648 to 2.62487, saving model to next_words.h5\n",
            "459/459 [==============================] - 7s 15ms/step - loss: 2.6249\n",
            "Epoch 17/100\n",
            "457/459 [============================>.] - ETA: 0s - loss: 2.3815\n",
            "Epoch 17: loss improved from 2.62487 to 2.38214, saving model to next_words.h5\n",
            "459/459 [==============================] - 7s 15ms/step - loss: 2.3821\n",
            "Epoch 18/100\n",
            "459/459 [==============================] - ETA: 0s - loss: 2.1467\n",
            "Epoch 18: loss improved from 2.38214 to 2.14669, saving model to next_words.h5\n",
            "459/459 [==============================] - 7s 15ms/step - loss: 2.1467\n",
            "Epoch 19/100\n",
            "459/459 [==============================] - ETA: 0s - loss: 1.9326\n",
            "Epoch 19: loss improved from 2.14669 to 1.93261, saving model to next_words.h5\n",
            "459/459 [==============================] - 7s 15ms/step - loss: 1.9326\n",
            "Epoch 20/100\n",
            "456/459 [============================>.] - ETA: 0s - loss: 1.7192\n",
            "Epoch 20: loss improved from 1.93261 to 1.72040, saving model to next_words.h5\n",
            "459/459 [==============================] - 7s 15ms/step - loss: 1.7204\n",
            "Epoch 21/100\n",
            "458/459 [============================>.] - ETA: 0s - loss: 1.5401\n",
            "Epoch 21: loss improved from 1.72040 to 1.54031, saving model to next_words.h5\n",
            "459/459 [==============================] - 7s 15ms/step - loss: 1.5403\n",
            "Epoch 22/100\n",
            "458/459 [============================>.] - ETA: 0s - loss: 1.3601\n",
            "Epoch 22: loss improved from 1.54031 to 1.35994, saving model to next_words.h5\n",
            "459/459 [==============================] - 7s 15ms/step - loss: 1.3599\n",
            "Epoch 23/100\n",
            "459/459 [==============================] - ETA: 0s - loss: 1.1853\n",
            "Epoch 23: loss improved from 1.35994 to 1.18533, saving model to next_words.h5\n",
            "459/459 [==============================] - 7s 15ms/step - loss: 1.1853\n",
            "Epoch 24/100\n",
            "458/459 [============================>.] - ETA: 0s - loss: 1.0222\n",
            "Epoch 24: loss improved from 1.18533 to 1.02197, saving model to next_words.h5\n",
            "459/459 [==============================] - 7s 15ms/step - loss: 1.0220\n",
            "Epoch 25/100\n",
            "456/459 [============================>.] - ETA: 0s - loss: 0.8726\n",
            "Epoch 25: loss improved from 1.02197 to 0.87379, saving model to next_words.h5\n",
            "459/459 [==============================] - 7s 15ms/step - loss: 0.8738\n",
            "Epoch 26/100\n",
            "459/459 [==============================] - ETA: 0s - loss: 0.7586\n",
            "Epoch 26: loss improved from 0.87379 to 0.75864, saving model to next_words.h5\n",
            "459/459 [==============================] - 7s 15ms/step - loss: 0.7586\n",
            "Epoch 27/100\n",
            "456/459 [============================>.] - ETA: 0s - loss: 0.6492\n",
            "Epoch 27: loss improved from 0.75864 to 0.65037, saving model to next_words.h5\n",
            "459/459 [==============================] - 7s 15ms/step - loss: 0.6504\n",
            "Epoch 28/100\n",
            "456/459 [============================>.] - ETA: 0s - loss: 0.5641\n",
            "Epoch 28: loss improved from 0.65037 to 0.56526, saving model to next_words.h5\n",
            "459/459 [==============================] - 7s 15ms/step - loss: 0.5653\n",
            "Epoch 29/100\n",
            "459/459 [==============================] - ETA: 0s - loss: 0.5149\n",
            "Epoch 29: loss improved from 0.56526 to 0.51491, saving model to next_words.h5\n",
            "459/459 [==============================] - 7s 15ms/step - loss: 0.5149\n",
            "Epoch 30/100\n",
            "456/459 [============================>.] - ETA: 0s - loss: 0.4437\n",
            "Epoch 30: loss improved from 0.51491 to 0.44408, saving model to next_words.h5\n",
            "459/459 [==============================] - 7s 15ms/step - loss: 0.4441\n",
            "Epoch 31/100\n",
            "458/459 [============================>.] - ETA: 0s - loss: 0.4054\n",
            "Epoch 31: loss improved from 0.44408 to 0.40558, saving model to next_words.h5\n",
            "459/459 [==============================] - 7s 15ms/step - loss: 0.4056\n",
            "Epoch 32/100\n",
            "458/459 [============================>.] - ETA: 0s - loss: 0.3604\n",
            "Epoch 32: loss improved from 0.40558 to 0.36073, saving model to next_words.h5\n",
            "459/459 [==============================] - 7s 16ms/step - loss: 0.3607\n",
            "Epoch 33/100\n",
            "458/459 [============================>.] - ETA: 0s - loss: 0.3403\n",
            "Epoch 33: loss improved from 0.36073 to 0.34079, saving model to next_words.h5\n",
            "459/459 [==============================] - 7s 15ms/step - loss: 0.3408\n",
            "Epoch 34/100\n",
            "459/459 [==============================] - ETA: 0s - loss: 0.3346\n",
            "Epoch 34: loss improved from 0.34079 to 0.33458, saving model to next_words.h5\n",
            "459/459 [==============================] - 7s 15ms/step - loss: 0.3346\n",
            "Epoch 35/100\n",
            "459/459 [==============================] - ETA: 0s - loss: 0.3064\n",
            "Epoch 35: loss improved from 0.33458 to 0.30636, saving model to next_words.h5\n",
            "459/459 [==============================] - 7s 15ms/step - loss: 0.3064\n",
            "Epoch 36/100\n",
            "457/459 [============================>.] - ETA: 0s - loss: 0.3017\n",
            "Epoch 36: loss improved from 0.30636 to 0.30209, saving model to next_words.h5\n",
            "459/459 [==============================] - 7s 15ms/step - loss: 0.3021\n",
            "Epoch 37/100\n",
            "459/459 [==============================] - ETA: 0s - loss: 0.2888\n",
            "Epoch 37: loss improved from 0.30209 to 0.28878, saving model to next_words.h5\n",
            "459/459 [==============================] - 7s 15ms/step - loss: 0.2888\n",
            "Epoch 38/100\n",
            "458/459 [============================>.] - ETA: 0s - loss: 0.2900\n",
            "Epoch 38: loss did not improve from 0.28878\n",
            "459/459 [==============================] - 6s 14ms/step - loss: 0.2900\n",
            "Epoch 39/100\n",
            "456/459 [============================>.] - ETA: 0s - loss: 0.2906\n",
            "Epoch 39: loss did not improve from 0.28878\n",
            "459/459 [==============================] - 6s 14ms/step - loss: 0.2916\n",
            "Epoch 40/100\n",
            "459/459 [==============================] - ETA: 0s - loss: 0.2756\n",
            "Epoch 40: loss improved from 0.28878 to 0.27560, saving model to next_words.h5\n",
            "459/459 [==============================] - 7s 16ms/step - loss: 0.2756\n",
            "Epoch 41/100\n",
            "456/459 [============================>.] - ETA: 0s - loss: 0.2500\n",
            "Epoch 41: loss improved from 0.27560 to 0.25037, saving model to next_words.h5\n",
            "459/459 [==============================] - 7s 15ms/step - loss: 0.2504\n",
            "Epoch 42/100\n",
            "459/459 [==============================] - ETA: 0s - loss: 0.2442\n",
            "Epoch 42: loss improved from 0.25037 to 0.24417, saving model to next_words.h5\n",
            "459/459 [==============================] - 7s 15ms/step - loss: 0.2442\n",
            "Epoch 43/100\n",
            "459/459 [==============================] - ETA: 0s - loss: 0.2325\n",
            "Epoch 43: loss improved from 0.24417 to 0.23251, saving model to next_words.h5\n",
            "459/459 [==============================] - 7s 16ms/step - loss: 0.2325\n",
            "Epoch 44/100\n",
            "459/459 [==============================] - ETA: 0s - loss: 0.2396\n",
            "Epoch 44: loss did not improve from 0.23251\n",
            "459/459 [==============================] - 6s 14ms/step - loss: 0.2396\n",
            "Epoch 45/100\n",
            "456/459 [============================>.] - ETA: 0s - loss: 0.2423\n",
            "Epoch 45: loss did not improve from 0.23251\n",
            "459/459 [==============================] - 6s 13ms/step - loss: 0.2425\n",
            "Epoch 46/100\n",
            "458/459 [============================>.] - ETA: 0s - loss: 0.2402\n",
            "Epoch 46: loss did not improve from 0.23251\n",
            "459/459 [==============================] - 6s 13ms/step - loss: 0.2402\n",
            "Epoch 47/100\n",
            "456/459 [============================>.] - ETA: 0s - loss: 0.2338\n",
            "Epoch 47: loss did not improve from 0.23251\n",
            "459/459 [==============================] - 6s 14ms/step - loss: 0.2344\n",
            "Epoch 48/100\n",
            "457/459 [============================>.] - ETA: 0s - loss: 0.2147\n",
            "Epoch 48: loss improved from 0.23251 to 0.21490, saving model to next_words.h5\n",
            "459/459 [==============================] - 7s 15ms/step - loss: 0.2149\n",
            "Epoch 49/100\n",
            "459/459 [==============================] - ETA: 0s - loss: 0.2094\n",
            "Epoch 49: loss improved from 0.21490 to 0.20936, saving model to next_words.h5\n",
            "459/459 [==============================] - 7s 15ms/step - loss: 0.2094\n",
            "Epoch 50/100\n",
            "459/459 [==============================] - ETA: 0s - loss: 0.2071\n",
            "Epoch 50: loss improved from 0.20936 to 0.20705, saving model to next_words.h5\n",
            "459/459 [==============================] - 7s 15ms/step - loss: 0.2071\n",
            "Epoch 51/100\n",
            "457/459 [============================>.] - ETA: 0s - loss: 0.2049\n",
            "Epoch 51: loss improved from 0.20705 to 0.20494, saving model to next_words.h5\n",
            "459/459 [==============================] - 7s 15ms/step - loss: 0.2049\n",
            "Epoch 52/100\n",
            "458/459 [============================>.] - ETA: 0s - loss: 0.2065\n",
            "Epoch 52: loss did not improve from 0.20494\n",
            "459/459 [==============================] - 6s 14ms/step - loss: 0.2064\n",
            "Epoch 53/100\n",
            "457/459 [============================>.] - ETA: 0s - loss: 0.2104\n",
            "Epoch 53: loss did not improve from 0.20494\n",
            "459/459 [==============================] - 6s 14ms/step - loss: 0.2110\n",
            "Epoch 54/100\n",
            "457/459 [============================>.] - ETA: 0s - loss: 0.2086\n",
            "Epoch 54: loss did not improve from 0.20494\n",
            "459/459 [==============================] - 6s 13ms/step - loss: 0.2088\n",
            "Epoch 55/100\n",
            "459/459 [==============================] - ETA: 0s - loss: 0.2011\n",
            "Epoch 55: loss improved from 0.20494 to 0.20109, saving model to next_words.h5\n",
            "459/459 [==============================] - 8s 17ms/step - loss: 0.2011\n",
            "Epoch 56/100\n",
            "458/459 [============================>.] - ETA: 0s - loss: 0.1924\n",
            "Epoch 56: loss improved from 0.20109 to 0.19240, saving model to next_words.h5\n",
            "459/459 [==============================] - 7s 15ms/step - loss: 0.1924\n",
            "Epoch 57/100\n",
            "459/459 [==============================] - ETA: 0s - loss: 0.1826\n",
            "Epoch 57: loss improved from 0.19240 to 0.18259, saving model to next_words.h5\n",
            "459/459 [==============================] - 7s 15ms/step - loss: 0.1826\n",
            "Epoch 58/100\n",
            "456/459 [============================>.] - ETA: 0s - loss: 0.1773\n",
            "Epoch 58: loss improved from 0.18259 to 0.17759, saving model to next_words.h5\n",
            "459/459 [==============================] - 7s 15ms/step - loss: 0.1776\n",
            "Epoch 59/100\n",
            "457/459 [============================>.] - ETA: 0s - loss: 0.1683\n",
            "Epoch 59: loss improved from 0.17759 to 0.16859, saving model to next_words.h5\n",
            "459/459 [==============================] - 7s 15ms/step - loss: 0.1686\n",
            "Epoch 60/100\n",
            "457/459 [============================>.] - ETA: 0s - loss: 0.1714\n",
            "Epoch 60: loss did not improve from 0.16859\n",
            "459/459 [==============================] - 6s 14ms/step - loss: 0.1713\n",
            "Epoch 61/100\n",
            "457/459 [============================>.] - ETA: 0s - loss: 0.1793\n",
            "Epoch 61: loss did not improve from 0.16859\n",
            "459/459 [==============================] - 6s 14ms/step - loss: 0.1800\n",
            "Epoch 62/100\n",
            "457/459 [============================>.] - ETA: 0s - loss: 0.2190\n",
            "Epoch 62: loss did not improve from 0.16859\n",
            "459/459 [==============================] - 6s 13ms/step - loss: 0.2192\n",
            "Epoch 63/100\n",
            "459/459 [==============================] - ETA: 0s - loss: 0.2060\n",
            "Epoch 63: loss did not improve from 0.16859\n",
            "459/459 [==============================] - 7s 14ms/step - loss: 0.2060\n",
            "Epoch 64/100\n",
            "457/459 [============================>.] - ETA: 0s - loss: 0.1813\n",
            "Epoch 64: loss did not improve from 0.16859\n",
            "459/459 [==============================] - 6s 13ms/step - loss: 0.1822\n",
            "Epoch 65/100\n",
            "459/459 [==============================] - ETA: 0s - loss: 0.1659\n",
            "Epoch 65: loss improved from 0.16859 to 0.16590, saving model to next_words.h5\n",
            "459/459 [==============================] - 7s 15ms/step - loss: 0.1659\n",
            "Epoch 66/100\n",
            "458/459 [============================>.] - ETA: 0s - loss: 0.1529\n",
            "Epoch 66: loss improved from 0.16590 to 0.15298, saving model to next_words.h5\n",
            "459/459 [==============================] - 7s 14ms/step - loss: 0.1530\n",
            "Epoch 67/100\n",
            "457/459 [============================>.] - ETA: 0s - loss: 0.1457\n",
            "Epoch 67: loss improved from 0.15298 to 0.14552, saving model to next_words.h5\n",
            "459/459 [==============================] - 7s 15ms/step - loss: 0.1455\n",
            "Epoch 68/100\n",
            "456/459 [============================>.] - ETA: 0s - loss: 0.1439\n",
            "Epoch 68: loss improved from 0.14552 to 0.14420, saving model to next_words.h5\n",
            "459/459 [==============================] - 7s 15ms/step - loss: 0.1442\n",
            "Epoch 69/100\n",
            "458/459 [============================>.] - ETA: 0s - loss: 0.1481\n",
            "Epoch 69: loss did not improve from 0.14420\n",
            "459/459 [==============================] - 7s 14ms/step - loss: 0.1480\n",
            "Epoch 70/100\n",
            "456/459 [============================>.] - ETA: 0s - loss: 0.1647\n",
            "Epoch 70: loss did not improve from 0.14420\n",
            "459/459 [==============================] - 6s 13ms/step - loss: 0.1650\n",
            "Epoch 71/100\n",
            "456/459 [============================>.] - ETA: 0s - loss: 0.2286\n",
            "Epoch 71: loss did not improve from 0.14420\n",
            "459/459 [==============================] - 6s 14ms/step - loss: 0.2289\n",
            "Epoch 72/100\n",
            "456/459 [============================>.] - ETA: 0s - loss: 0.2057\n",
            "Epoch 72: loss did not improve from 0.14420\n",
            "459/459 [==============================] - 6s 13ms/step - loss: 0.2055\n",
            "Epoch 73/100\n",
            "459/459 [==============================] - ETA: 0s - loss: 0.1584\n",
            "Epoch 73: loss did not improve from 0.14420\n",
            "459/459 [==============================] - 6s 14ms/step - loss: 0.1584\n",
            "Epoch 74/100\n",
            "456/459 [============================>.] - ETA: 0s - loss: 0.1393\n",
            "Epoch 74: loss improved from 0.14420 to 0.13925, saving model to next_words.h5\n",
            "459/459 [==============================] - 7s 14ms/step - loss: 0.1393\n",
            "Epoch 75/100\n",
            "457/459 [============================>.] - ETA: 0s - loss: 0.1285\n",
            "Epoch 75: loss improved from 0.13925 to 0.12865, saving model to next_words.h5\n",
            "459/459 [==============================] - 7s 15ms/step - loss: 0.1286\n",
            "Epoch 76/100\n",
            "459/459 [==============================] - ETA: 0s - loss: 0.1274\n",
            "Epoch 76: loss improved from 0.12865 to 0.12744, saving model to next_words.h5\n",
            "459/459 [==============================] - 7s 15ms/step - loss: 0.1274\n",
            "Epoch 77/100\n",
            "456/459 [============================>.] - ETA: 0s - loss: 0.1298\n",
            "Epoch 77: loss did not improve from 0.12744\n",
            "459/459 [==============================] - 7s 14ms/step - loss: 0.1302\n",
            "Epoch 78/100\n",
            "457/459 [============================>.] - ETA: 0s - loss: 0.1406\n",
            "Epoch 78: loss did not improve from 0.12744\n",
            "459/459 [==============================] - 6s 13ms/step - loss: 0.1407\n",
            "Epoch 79/100\n",
            "456/459 [============================>.] - ETA: 0s - loss: 0.2272\n",
            "Epoch 79: loss did not improve from 0.12744\n",
            "459/459 [==============================] - 7s 14ms/step - loss: 0.2281\n",
            "Epoch 80/100\n",
            "458/459 [============================>.] - ETA: 0s - loss: 0.2023\n",
            "Epoch 80: loss did not improve from 0.12744\n",
            "459/459 [==============================] - 6s 13ms/step - loss: 0.2022\n",
            "Epoch 81/100\n",
            "459/459 [==============================] - ETA: 0s - loss: 0.1461\n",
            "Epoch 81: loss did not improve from 0.12744\n",
            "459/459 [==============================] - 6s 14ms/step - loss: 0.1461\n",
            "Epoch 82/100\n",
            "457/459 [============================>.] - ETA: 0s - loss: 0.1239\n",
            "Epoch 82: loss improved from 0.12744 to 0.12411, saving model to next_words.h5\n",
            "459/459 [==============================] - 7s 15ms/step - loss: 0.1241\n",
            "Epoch 83/100\n",
            "456/459 [============================>.] - ETA: 0s - loss: 0.1192\n",
            "Epoch 83: loss improved from 0.12411 to 0.11937, saving model to next_words.h5\n",
            "459/459 [==============================] - 7s 15ms/step - loss: 0.1194\n",
            "Epoch 84/100\n",
            "456/459 [============================>.] - ETA: 0s - loss: 0.1170\n",
            "Epoch 84: loss improved from 0.11937 to 0.11701, saving model to next_words.h5\n",
            "459/459 [==============================] - 7s 15ms/step - loss: 0.1170\n",
            "Epoch 85/100\n",
            "458/459 [============================>.] - ETA: 0s - loss: 0.1179\n",
            "Epoch 85: loss did not improve from 0.11701\n",
            "459/459 [==============================] - 6s 14ms/step - loss: 0.1179\n",
            "Epoch 86/100\n",
            "456/459 [============================>.] - ETA: 0s - loss: 0.1218\n",
            "Epoch 86: loss did not improve from 0.11701\n",
            "459/459 [==============================] - 6s 14ms/step - loss: 0.1218\n",
            "Epoch 87/100\n",
            "458/459 [============================>.] - ETA: 0s - loss: 0.1411\n",
            "Epoch 87: loss did not improve from 0.11701\n",
            "459/459 [==============================] - 6s 14ms/step - loss: 0.1410\n",
            "Epoch 88/100\n",
            "457/459 [============================>.] - ETA: 0s - loss: 0.2880\n",
            "Epoch 88: loss did not improve from 0.11701\n",
            "459/459 [==============================] - 6s 14ms/step - loss: 0.2878\n",
            "Epoch 89/100\n",
            "456/459 [============================>.] - ETA: 0s - loss: 0.1722\n",
            "Epoch 89: loss did not improve from 0.11701\n",
            "459/459 [==============================] - 6s 13ms/step - loss: 0.1729\n",
            "Epoch 90/100\n",
            "457/459 [============================>.] - ETA: 0s - loss: 0.1280\n",
            "Epoch 90: loss did not improve from 0.11701\n",
            "459/459 [==============================] - 6s 14ms/step - loss: 0.1282\n",
            "Epoch 91/100\n",
            "458/459 [============================>.] - ETA: 0s - loss: 0.1151\n",
            "Epoch 91: loss improved from 0.11701 to 0.11531, saving model to next_words.h5\n",
            "459/459 [==============================] - 7s 15ms/step - loss: 0.1153\n",
            "Epoch 92/100\n",
            "456/459 [============================>.] - ETA: 0s - loss: 0.1114\n",
            "Epoch 92: loss improved from 0.11531 to 0.11190, saving model to next_words.h5\n",
            "459/459 [==============================] - 7s 15ms/step - loss: 0.1119\n",
            "Epoch 93/100\n",
            "459/459 [==============================] - ETA: 0s - loss: 0.1130\n",
            "Epoch 93: loss did not improve from 0.11190\n",
            "459/459 [==============================] - 6s 13ms/step - loss: 0.1130\n",
            "Epoch 94/100\n",
            "456/459 [============================>.] - ETA: 0s - loss: 0.1138\n",
            "Epoch 94: loss did not improve from 0.11190\n",
            "459/459 [==============================] - 7s 14ms/step - loss: 0.1141\n",
            "Epoch 95/100\n",
            "457/459 [============================>.] - ETA: 0s - loss: 0.1171\n",
            "Epoch 95: loss did not improve from 0.11190\n",
            "459/459 [==============================] - 6s 14ms/step - loss: 0.1172\n",
            "Epoch 96/100\n",
            "459/459 [==============================] - ETA: 0s - loss: 0.1358\n",
            "Epoch 96: loss did not improve from 0.11190\n",
            "459/459 [==============================] - 7s 14ms/step - loss: 0.1358\n",
            "Epoch 97/100\n",
            "456/459 [============================>.] - ETA: 0s - loss: 0.2425\n",
            "Epoch 97: loss did not improve from 0.11190\n",
            "459/459 [==============================] - 6s 13ms/step - loss: 0.2425\n",
            "Epoch 98/100\n",
            "457/459 [============================>.] - ETA: 0s - loss: 0.1713\n",
            "Epoch 98: loss did not improve from 0.11190\n",
            "459/459 [==============================] - 7s 15ms/step - loss: 0.1714\n",
            "Epoch 99/100\n",
            "457/459 [============================>.] - ETA: 0s - loss: 0.1234\n",
            "Epoch 99: loss did not improve from 0.11190\n",
            "459/459 [==============================] - 6s 13ms/step - loss: 0.1235\n",
            "Epoch 100/100\n",
            "456/459 [============================>.] - ETA: 0s - loss: 0.1132\n",
            "Epoch 100: loss did not improve from 0.11190\n",
            "459/459 [==============================] - 7s 14ms/step - loss: 0.1130\n"
          ]
        },
        {
          "output_type": "execute_result",
          "data": {
            "text/plain": [
              "<keras.callbacks.History at 0x7f653c078460>"
            ]
          },
          "metadata": {},
          "execution_count": 22
        }
      ]
    },
    {
      "cell_type": "code",
      "source": [
        "from tensorflow.keras.models import load_model\n",
        "import numpy as np\n",
        "import pickle\n",
        "\n",
        "# Load the model and tokenizer\n",
        "model = load_model('next_words.h5')\n",
        "tokenizer = pickle.load(open('token.pkl', 'rb'))\n",
        "\n",
        "def Predict_Next_Words(model, tokenizer, text):\n",
        "\n",
        "  sequence = tokenizer.texts_to_sequences([text])\n",
        "  sequence = np.array(sequence)\n",
        "  preds = np.argmax(model.predict(sequence))\n",
        "  predicted_word = \"\"\n",
        "  \n",
        "  for key, value in tokenizer.word_index.items():\n",
        "      if value == preds:\n",
        "          predicted_word = key\n",
        "          break\n",
        "  \n",
        "  print(predicted_word)\n",
        "  return predicted_word"
      ],
      "metadata": {
        "id": "0zmv2Of4Peej"
      },
      "execution_count": 23,
      "outputs": []
    },
    {
      "cell_type": "code",
      "source": [
        "while(True):\n",
        "  text = input(\"Enter your line: \")\n",
        "  \n",
        "  if text == \"0\":\n",
        "      print(\"Execution completed.....\")\n",
        "      break\n",
        "  \n",
        "  else:\n",
        "      try:\n",
        "          text = text.split(\" \")\n",
        "          text = text[-3:]\n",
        "          print(text)\n",
        "        \n",
        "          Predict_Next_Words(model, tokenizer, text)\n",
        "          \n",
        "      except Exception as e:\n",
        "        print(\"Error occurred: \",e)\n",
        "        continue"
      ],
      "metadata": {
        "colab": {
          "base_uri": "https://localhost:8080/",
          "height": 399
        },
        "id": "mYJEOc59Qnkn",
        "outputId": "29cf00ca-fe17-47d7-e95b-79c5da0e802a"
      },
      "execution_count": 25,
      "outputs": [
        {
          "output_type": "error",
          "ename": "KeyboardInterrupt",
          "evalue": "ignored",
          "traceback": [
            "\u001b[0;31m---------------------------------------------------------------------------\u001b[0m",
            "\u001b[0;31mKeyboardInterrupt\u001b[0m                         Traceback (most recent call last)",
            "\u001b[0;32m<ipython-input-25-10cbba31caae>\u001b[0m in \u001b[0;36m<module>\u001b[0;34m\u001b[0m\n\u001b[1;32m      1\u001b[0m \u001b[0;32mwhile\u001b[0m\u001b[0;34m(\u001b[0m\u001b[0;32mTrue\u001b[0m\u001b[0;34m)\u001b[0m\u001b[0;34m:\u001b[0m\u001b[0;34m\u001b[0m\u001b[0;34m\u001b[0m\u001b[0m\n\u001b[0;32m----> 2\u001b[0;31m   \u001b[0mtext\u001b[0m \u001b[0;34m=\u001b[0m \u001b[0minput\u001b[0m\u001b[0;34m(\u001b[0m\u001b[0;34m\"Enter your line: \"\u001b[0m\u001b[0;34m)\u001b[0m\u001b[0;34m\u001b[0m\u001b[0;34m\u001b[0m\u001b[0m\n\u001b[0m\u001b[1;32m      3\u001b[0m \u001b[0;34m\u001b[0m\u001b[0m\n\u001b[1;32m      4\u001b[0m   \u001b[0;32mif\u001b[0m \u001b[0mtext\u001b[0m \u001b[0;34m==\u001b[0m \u001b[0;34m\"0\"\u001b[0m\u001b[0;34m:\u001b[0m\u001b[0;34m\u001b[0m\u001b[0;34m\u001b[0m\u001b[0m\n\u001b[1;32m      5\u001b[0m       \u001b[0mprint\u001b[0m\u001b[0;34m(\u001b[0m\u001b[0;34m\"Execution completed.....\"\u001b[0m\u001b[0;34m)\u001b[0m\u001b[0;34m\u001b[0m\u001b[0;34m\u001b[0m\u001b[0m\n",
            "\u001b[0;32m/usr/local/lib/python3.9/dist-packages/ipykernel/kernelbase.py\u001b[0m in \u001b[0;36mraw_input\u001b[0;34m(self, prompt)\u001b[0m\n\u001b[1;32m    858\u001b[0m                 \u001b[0;34m\"raw_input was called, but this frontend does not support input requests.\"\u001b[0m\u001b[0;34m\u001b[0m\u001b[0;34m\u001b[0m\u001b[0m\n\u001b[1;32m    859\u001b[0m             )\n\u001b[0;32m--> 860\u001b[0;31m         return self._input_request(str(prompt),\n\u001b[0m\u001b[1;32m    861\u001b[0m             \u001b[0mself\u001b[0m\u001b[0;34m.\u001b[0m\u001b[0m_parent_ident\u001b[0m\u001b[0;34m,\u001b[0m\u001b[0;34m\u001b[0m\u001b[0;34m\u001b[0m\u001b[0m\n\u001b[1;32m    862\u001b[0m             \u001b[0mself\u001b[0m\u001b[0;34m.\u001b[0m\u001b[0m_parent_header\u001b[0m\u001b[0;34m,\u001b[0m\u001b[0;34m\u001b[0m\u001b[0;34m\u001b[0m\u001b[0m\n",
            "\u001b[0;32m/usr/local/lib/python3.9/dist-packages/ipykernel/kernelbase.py\u001b[0m in \u001b[0;36m_input_request\u001b[0;34m(self, prompt, ident, parent, password)\u001b[0m\n\u001b[1;32m    902\u001b[0m             \u001b[0;32mexcept\u001b[0m \u001b[0mKeyboardInterrupt\u001b[0m\u001b[0;34m:\u001b[0m\u001b[0;34m\u001b[0m\u001b[0;34m\u001b[0m\u001b[0m\n\u001b[1;32m    903\u001b[0m                 \u001b[0;31m# re-raise KeyboardInterrupt, to truncate traceback\u001b[0m\u001b[0;34m\u001b[0m\u001b[0;34m\u001b[0m\u001b[0m\n\u001b[0;32m--> 904\u001b[0;31m                 \u001b[0;32mraise\u001b[0m \u001b[0mKeyboardInterrupt\u001b[0m\u001b[0;34m(\u001b[0m\u001b[0;34m\"Interrupted by user\"\u001b[0m\u001b[0;34m)\u001b[0m \u001b[0;32mfrom\u001b[0m \u001b[0;32mNone\u001b[0m\u001b[0;34m\u001b[0m\u001b[0;34m\u001b[0m\u001b[0m\n\u001b[0m\u001b[1;32m    905\u001b[0m             \u001b[0;32mexcept\u001b[0m \u001b[0mException\u001b[0m \u001b[0;32mas\u001b[0m \u001b[0me\u001b[0m\u001b[0;34m:\u001b[0m\u001b[0;34m\u001b[0m\u001b[0;34m\u001b[0m\u001b[0m\n\u001b[1;32m    906\u001b[0m                 \u001b[0mself\u001b[0m\u001b[0;34m.\u001b[0m\u001b[0mlog\u001b[0m\u001b[0;34m.\u001b[0m\u001b[0mwarning\u001b[0m\u001b[0;34m(\u001b[0m\u001b[0;34m\"Invalid Message:\"\u001b[0m\u001b[0;34m,\u001b[0m \u001b[0mexc_info\u001b[0m\u001b[0;34m=\u001b[0m\u001b[0;32mTrue\u001b[0m\u001b[0;34m)\u001b[0m\u001b[0;34m\u001b[0m\u001b[0;34m\u001b[0m\u001b[0m\n",
            "\u001b[0;31mKeyboardInterrupt\u001b[0m: Interrupted by user"
          ]
        }
      ]
    },
    {
      "cell_type": "code",
      "source": [],
      "metadata": {
        "id": "RCvhu1FwVhkq"
      },
      "execution_count": null,
      "outputs": []
    },
    {
      "cell_type": "markdown",
      "source": [],
      "metadata": {
        "id": "bMpLu04fVhNI"
      }
    }
  ]
}