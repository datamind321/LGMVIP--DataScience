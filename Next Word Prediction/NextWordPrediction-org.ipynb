{
  "nbformat": 4,
  "nbformat_minor": 0,
  "metadata": {
    "colab": {
      "provenance": []
    },
    "kernelspec": {
      "name": "python3",
      "display_name": "Python 3"
    },
    "language_info": {
      "name": "python"
    },
    "accelerator": "GPU",
    "gpuClass": "standard"
  },
  "cells": [
    {
      "cell_type": "markdown",
      "source": [
        "## Task - 6 Next Word Prediction Using LSTM \n",
        "\n",
        "- Author : **Rahul Rathour** \n",
        "- Data Science intern at LetsGrowMore\n",
        "- link for the text file : https://www.gutenberg.org/cache/epub/1513/pg1513.txt\n",
        "\n",
        "- References : https://ishwargautam.blogspot.com/2021/07/next-word-prediction-using-lstm.html"
      ],
      "metadata": {
        "id": "l4pWGxNHQXUu"
      }
    },
    {
      "cell_type": "code",
      "execution_count": 33,
      "metadata": {
        "id": "fnEgBTlmONmn"
      },
      "outputs": [],
      "source": [
        "import tensorflow as tf\n",
        "from tensorflow.keras.preprocessing.text import Tokenizer\n",
        "from tensorflow.keras.layers import Embedding, LSTM,Dense\n",
        "from tensorflow.keras.models import Sequential\n",
        "from tensorflow.keras.utils import to_categorical\n",
        "from tensorflow.keras.optimizers import Adam\n",
        "import pickle\n",
        "import numpy as np\n",
        "import os"
      ]
    },
    {
      "cell_type": "code",
      "source": [
        "from google.colab import files\n",
        "uploaded = files.upload()"
      ],
      "metadata": {
        "colab": {
          "base_uri": "https://localhost:8080/",
          "height": 73
        },
        "id": "EQ62onK2OaUd",
        "outputId": "b09b5621-eb35-482d-b493-806dfd44cb77"
      },
      "execution_count": 34,
      "outputs": [
        {
          "output_type": "display_data",
          "data": {
            "text/plain": [
              "<IPython.core.display.HTML object>"
            ],
            "text/html": [
              "\n",
              "     <input type=\"file\" id=\"files-91f6a5e5-873a-4a64-a69d-f3f1d2050147\" name=\"files[]\" multiple disabled\n",
              "        style=\"border:none\" />\n",
              "     <output id=\"result-91f6a5e5-873a-4a64-a69d-f3f1d2050147\">\n",
              "      Upload widget is only available when the cell has been executed in the\n",
              "      current browser session. Please rerun this cell to enable.\n",
              "      </output>\n",
              "      <script>// Copyright 2017 Google LLC\n",
              "//\n",
              "// Licensed under the Apache License, Version 2.0 (the \"License\");\n",
              "// you may not use this file except in compliance with the License.\n",
              "// You may obtain a copy of the License at\n",
              "//\n",
              "//      http://www.apache.org/licenses/LICENSE-2.0\n",
              "//\n",
              "// Unless required by applicable law or agreed to in writing, software\n",
              "// distributed under the License is distributed on an \"AS IS\" BASIS,\n",
              "// WITHOUT WARRANTIES OR CONDITIONS OF ANY KIND, either express or implied.\n",
              "// See the License for the specific language governing permissions and\n",
              "// limitations under the License.\n",
              "\n",
              "/**\n",
              " * @fileoverview Helpers for google.colab Python module.\n",
              " */\n",
              "(function(scope) {\n",
              "function span(text, styleAttributes = {}) {\n",
              "  const element = document.createElement('span');\n",
              "  element.textContent = text;\n",
              "  for (const key of Object.keys(styleAttributes)) {\n",
              "    element.style[key] = styleAttributes[key];\n",
              "  }\n",
              "  return element;\n",
              "}\n",
              "\n",
              "// Max number of bytes which will be uploaded at a time.\n",
              "const MAX_PAYLOAD_SIZE = 100 * 1024;\n",
              "\n",
              "function _uploadFiles(inputId, outputId) {\n",
              "  const steps = uploadFilesStep(inputId, outputId);\n",
              "  const outputElement = document.getElementById(outputId);\n",
              "  // Cache steps on the outputElement to make it available for the next call\n",
              "  // to uploadFilesContinue from Python.\n",
              "  outputElement.steps = steps;\n",
              "\n",
              "  return _uploadFilesContinue(outputId);\n",
              "}\n",
              "\n",
              "// This is roughly an async generator (not supported in the browser yet),\n",
              "// where there are multiple asynchronous steps and the Python side is going\n",
              "// to poll for completion of each step.\n",
              "// This uses a Promise to block the python side on completion of each step,\n",
              "// then passes the result of the previous step as the input to the next step.\n",
              "function _uploadFilesContinue(outputId) {\n",
              "  const outputElement = document.getElementById(outputId);\n",
              "  const steps = outputElement.steps;\n",
              "\n",
              "  const next = steps.next(outputElement.lastPromiseValue);\n",
              "  return Promise.resolve(next.value.promise).then((value) => {\n",
              "    // Cache the last promise value to make it available to the next\n",
              "    // step of the generator.\n",
              "    outputElement.lastPromiseValue = value;\n",
              "    return next.value.response;\n",
              "  });\n",
              "}\n",
              "\n",
              "/**\n",
              " * Generator function which is called between each async step of the upload\n",
              " * process.\n",
              " * @param {string} inputId Element ID of the input file picker element.\n",
              " * @param {string} outputId Element ID of the output display.\n",
              " * @return {!Iterable<!Object>} Iterable of next steps.\n",
              " */\n",
              "function* uploadFilesStep(inputId, outputId) {\n",
              "  const inputElement = document.getElementById(inputId);\n",
              "  inputElement.disabled = false;\n",
              "\n",
              "  const outputElement = document.getElementById(outputId);\n",
              "  outputElement.innerHTML = '';\n",
              "\n",
              "  const pickedPromise = new Promise((resolve) => {\n",
              "    inputElement.addEventListener('change', (e) => {\n",
              "      resolve(e.target.files);\n",
              "    });\n",
              "  });\n",
              "\n",
              "  const cancel = document.createElement('button');\n",
              "  inputElement.parentElement.appendChild(cancel);\n",
              "  cancel.textContent = 'Cancel upload';\n",
              "  const cancelPromise = new Promise((resolve) => {\n",
              "    cancel.onclick = () => {\n",
              "      resolve(null);\n",
              "    };\n",
              "  });\n",
              "\n",
              "  // Wait for the user to pick the files.\n",
              "  const files = yield {\n",
              "    promise: Promise.race([pickedPromise, cancelPromise]),\n",
              "    response: {\n",
              "      action: 'starting',\n",
              "    }\n",
              "  };\n",
              "\n",
              "  cancel.remove();\n",
              "\n",
              "  // Disable the input element since further picks are not allowed.\n",
              "  inputElement.disabled = true;\n",
              "\n",
              "  if (!files) {\n",
              "    return {\n",
              "      response: {\n",
              "        action: 'complete',\n",
              "      }\n",
              "    };\n",
              "  }\n",
              "\n",
              "  for (const file of files) {\n",
              "    const li = document.createElement('li');\n",
              "    li.append(span(file.name, {fontWeight: 'bold'}));\n",
              "    li.append(span(\n",
              "        `(${file.type || 'n/a'}) - ${file.size} bytes, ` +\n",
              "        `last modified: ${\n",
              "            file.lastModifiedDate ? file.lastModifiedDate.toLocaleDateString() :\n",
              "                                    'n/a'} - `));\n",
              "    const percent = span('0% done');\n",
              "    li.appendChild(percent);\n",
              "\n",
              "    outputElement.appendChild(li);\n",
              "\n",
              "    const fileDataPromise = new Promise((resolve) => {\n",
              "      const reader = new FileReader();\n",
              "      reader.onload = (e) => {\n",
              "        resolve(e.target.result);\n",
              "      };\n",
              "      reader.readAsArrayBuffer(file);\n",
              "    });\n",
              "    // Wait for the data to be ready.\n",
              "    let fileData = yield {\n",
              "      promise: fileDataPromise,\n",
              "      response: {\n",
              "        action: 'continue',\n",
              "      }\n",
              "    };\n",
              "\n",
              "    // Use a chunked sending to avoid message size limits. See b/62115660.\n",
              "    let position = 0;\n",
              "    do {\n",
              "      const length = Math.min(fileData.byteLength - position, MAX_PAYLOAD_SIZE);\n",
              "      const chunk = new Uint8Array(fileData, position, length);\n",
              "      position += length;\n",
              "\n",
              "      const base64 = btoa(String.fromCharCode.apply(null, chunk));\n",
              "      yield {\n",
              "        response: {\n",
              "          action: 'append',\n",
              "          file: file.name,\n",
              "          data: base64,\n",
              "        },\n",
              "      };\n",
              "\n",
              "      let percentDone = fileData.byteLength === 0 ?\n",
              "          100 :\n",
              "          Math.round((position / fileData.byteLength) * 100);\n",
              "      percent.textContent = `${percentDone}% done`;\n",
              "\n",
              "    } while (position < fileData.byteLength);\n",
              "  }\n",
              "\n",
              "  // All done.\n",
              "  yield {\n",
              "    response: {\n",
              "      action: 'complete',\n",
              "    }\n",
              "  };\n",
              "}\n",
              "\n",
              "scope.google = scope.google || {};\n",
              "scope.google.colab = scope.google.colab || {};\n",
              "scope.google.colab._files = {\n",
              "  _uploadFiles,\n",
              "  _uploadFilesContinue,\n",
              "};\n",
              "})(self);\n",
              "</script> "
            ]
          },
          "metadata": {}
        },
        {
          "output_type": "stream",
          "name": "stdout",
          "text": [
            "Saving 1661-0.txt to 1661-0.txt\n"
          ]
        }
      ]
    },
    {
      "cell_type": "code",
      "source": [
        "file=open('1661-0.txt','r',encoding='utf8')"
      ],
      "metadata": {
        "id": "oL4SNIRFOlqN"
      },
      "execution_count": 46,
      "outputs": []
    },
    {
      "cell_type": "code",
      "source": [
        "lines = []\n",
        "for i in file:\n",
        "    lines.append(i)"
      ],
      "metadata": {
        "id": "NoFWa0ubO0rr"
      },
      "execution_count": 47,
      "outputs": []
    },
    {
      "cell_type": "code",
      "source": [
        "data=\"\"\n",
        "for i in lines:\n",
        "    data=\" \".join(lines)"
      ],
      "metadata": {
        "id": "n_2Hcr6zO3jh"
      },
      "execution_count": 48,
      "outputs": []
    },
    {
      "cell_type": "code",
      "source": [
        "data=data.replace('\\n','').replace('\\r','').replace('\\ufeff','').replace('“','').replace('”','')"
      ],
      "metadata": {
        "id": "FToDm2Y0O5XV"
      },
      "execution_count": 49,
      "outputs": []
    },
    {
      "cell_type": "code",
      "source": [
        "data=data.split()\n",
        "data=' '.join(data)\n",
        "data[:500]\n"
      ],
      "metadata": {
        "colab": {
          "base_uri": "https://localhost:8080/",
          "height": 139
        },
        "id": "wG1K_2fRO7SK",
        "outputId": "e973c9eb-c6e1-4cd1-fb6e-ce6d27da4edf"
      },
      "execution_count": 50,
      "outputs": [
        {
          "output_type": "execute_result",
          "data": {
            "text/plain": [
              "\"Project Gutenberg's The Adventures of Sherlock Holmes, by Arthur Conan Doyle This eBook is for the use of anyone anywhere at no cost and with almost no restrictions whatsoever. You may copy it, give it away or re-use it under the terms of the Project Gutenberg License included with this eBook or online at www.gutenberg.net Title: The Adventures of Sherlock Holmes Author: Arthur Conan Doyle Release Date: November 29, 2002 [EBook #1661] Last Updated: May 20, 2019 Language: English Character set en\""
            ],
            "application/vnd.google.colaboratory.intrinsic+json": {
              "type": "string"
            }
          },
          "metadata": {},
          "execution_count": 50
        }
      ]
    },
    {
      "cell_type": "code",
      "source": [
        "tokenizer=Tokenizer()\n",
        "tokenizer.fit_on_texts([data])"
      ],
      "metadata": {
        "id": "PV8kcY5dO-2v"
      },
      "execution_count": 51,
      "outputs": []
    },
    {
      "cell_type": "code",
      "source": [
        "#saving the tokenizer for predict function\n",
        "pickle.dump(tokenizer,open('token.pkl','wb'))"
      ],
      "metadata": {
        "id": "ZTDeTmdMPBes"
      },
      "execution_count": 52,
      "outputs": []
    },
    {
      "cell_type": "code",
      "source": [
        "sequence_data = tokenizer.texts_to_sequences([data])[0]\n",
        "sequence_data[:15]"
      ],
      "metadata": {
        "colab": {
          "base_uri": "https://localhost:8080/"
        },
        "id": "Nd3WgXRgPDE3",
        "outputId": "b75301f2-eabf-416d-e462-46b378b1f025"
      },
      "execution_count": 53,
      "outputs": [
        {
          "output_type": "execute_result",
          "data": {
            "text/plain": [
              "[142, 4680, 1, 986, 5, 125, 33, 46, 556, 2164, 2165, 27, 987, 14, 22]"
            ]
          },
          "metadata": {},
          "execution_count": 53
        }
      ]
    },
    {
      "cell_type": "code",
      "source": [
        "vocab_size=len(tokenizer.word_index) + 1\n",
        "print(vocab_size)"
      ],
      "metadata": {
        "colab": {
          "base_uri": "https://localhost:8080/"
        },
        "id": "YT30Exz7PFNf",
        "outputId": "bf692130-8ec9-4206-e19a-f5d2f9710404"
      },
      "execution_count": 54,
      "outputs": [
        {
          "output_type": "stream",
          "name": "stdout",
          "text": [
            "8624\n"
          ]
        }
      ]
    },
    {
      "cell_type": "code",
      "source": [
        "sequences = []\n",
        "for i in range(3,len(sequence_data)):\n",
        "    words=sequence_data[i-3:i+1]\n",
        "    sequences.append(words)"
      ],
      "metadata": {
        "id": "2vGlfW6APG8r"
      },
      "execution_count": 55,
      "outputs": []
    },
    {
      "cell_type": "code",
      "source": [
        "print('The length of sequences',len(sequences))"
      ],
      "metadata": {
        "colab": {
          "base_uri": "https://localhost:8080/"
        },
        "id": "QTRfg1rFPIyo",
        "outputId": "06459c7a-1c5c-4afb-c17b-8999a78a5e17"
      },
      "execution_count": 56,
      "outputs": [
        {
          "output_type": "stream",
          "name": "stdout",
          "text": [
            "The length of sequences 108955\n"
          ]
        }
      ]
    },
    {
      "cell_type": "code",
      "source": [
        "sequences=np.array(sequences)\n",
        "sequences[:10]"
      ],
      "metadata": {
        "colab": {
          "base_uri": "https://localhost:8080/"
        },
        "id": "FQgtoxSYPKVH",
        "outputId": "5a0c35d6-d856-4378-f5dc-4a57f8f1d062"
      },
      "execution_count": 57,
      "outputs": [
        {
          "output_type": "execute_result",
          "data": {
            "text/plain": [
              "array([[ 142, 4680,    1,  986],\n",
              "       [4680,    1,  986,    5],\n",
              "       [   1,  986,    5,  125],\n",
              "       [ 986,    5,  125,   33],\n",
              "       [   5,  125,   33,   46],\n",
              "       [ 125,   33,   46,  556],\n",
              "       [  33,   46,  556, 2164],\n",
              "       [  46,  556, 2164, 2165],\n",
              "       [ 556, 2164, 2165,   27],\n",
              "       [2164, 2165,   27,  987]])"
            ]
          },
          "metadata": {},
          "execution_count": 57
        }
      ]
    },
    {
      "cell_type": "code",
      "source": [
        "X=[]\n",
        "y=[]"
      ],
      "metadata": {
        "id": "-9KV83aVPMi8"
      },
      "execution_count": 58,
      "outputs": []
    },
    {
      "cell_type": "code",
      "source": [
        "for i in sequences:\n",
        "    X.append(i[0:3])\n",
        "    y.append(i[3])"
      ],
      "metadata": {
        "id": "3xnCaYGgPOQv"
      },
      "execution_count": 59,
      "outputs": []
    },
    {
      "cell_type": "code",
      "source": [
        "X=np.array(X)\n",
        "y=np.array(y)"
      ],
      "metadata": {
        "id": "RRhFMvmPPPu3"
      },
      "execution_count": 60,
      "outputs": []
    },
    {
      "cell_type": "code",
      "source": [
        "\n",
        "print('Data: ',X[:10])\n",
        "print('Response: ',y[:10])"
      ],
      "metadata": {
        "colab": {
          "base_uri": "https://localhost:8080/"
        },
        "id": "ltQmyDRSPRTn",
        "outputId": "25fef76b-750e-4685-cca1-c3632043f26e"
      },
      "execution_count": 61,
      "outputs": [
        {
          "output_type": "stream",
          "name": "stdout",
          "text": [
            "Data:  [[ 142 4680    1]\n",
            " [4680    1  986]\n",
            " [   1  986    5]\n",
            " [ 986    5  125]\n",
            " [   5  125   33]\n",
            " [ 125   33   46]\n",
            " [  33   46  556]\n",
            " [  46  556 2164]\n",
            " [ 556 2164 2165]\n",
            " [2164 2165   27]]\n",
            "Response:  [ 986    5  125   33   46  556 2164 2165   27  987]\n"
          ]
        }
      ]
    },
    {
      "cell_type": "code",
      "source": [
        "y=to_categorical(y,num_classes=vocab_size)\n",
        "y[:5]"
      ],
      "metadata": {
        "colab": {
          "base_uri": "https://localhost:8080/"
        },
        "id": "kXw4lpu5PSzL",
        "outputId": "aa4a8855-9dec-4e25-84b3-04c2c7a830d8"
      },
      "execution_count": 62,
      "outputs": [
        {
          "output_type": "execute_result",
          "data": {
            "text/plain": [
              "array([[0., 0., 0., ..., 0., 0., 0.],\n",
              "       [0., 0., 0., ..., 0., 0., 0.],\n",
              "       [0., 0., 0., ..., 0., 0., 0.],\n",
              "       [0., 0., 0., ..., 0., 0., 0.],\n",
              "       [0., 0., 0., ..., 0., 0., 0.]], dtype=float32)"
            ]
          },
          "metadata": {},
          "execution_count": 62
        }
      ]
    },
    {
      "cell_type": "code",
      "source": [
        "model=Sequential()\n",
        "model.add(Embedding(vocab_size,10,input_length=3))\n",
        "model.add(LSTM(1000,return_sequences=True))\n",
        "model.add(LSTM(1000))\n",
        "model.add(Dense(1000,activation='relu'))\n",
        "model.add(Dense(vocab_size,activation='softmax'))"
      ],
      "metadata": {
        "id": "y8F-S-P0PUn8"
      },
      "execution_count": 63,
      "outputs": []
    },
    {
      "cell_type": "code",
      "source": [
        "from tensorflow import keras\n",
        "from keras.utils.vis_utils import plot_model\n",
        "\n",
        "keras.utils.plot_model(model, to_file='plot.png', show_layer_names=True)"
      ],
      "metadata": {
        "colab": {
          "base_uri": "https://localhost:8080/",
          "height": 564
        },
        "id": "blKO6vHBy_w6",
        "outputId": "e08c0d09-e919-4e86-b246-743ffccc2546"
      },
      "execution_count": 64,
      "outputs": [
        {
          "output_type": "execute_result",
          "data": {
            "image/png": "[encoded data removed]",
            "text/plain": [
              "<IPython.core.display.Image object>"
            ]
          },
          "metadata": {},
          "execution_count": 64
        }
      ]
    },
    {
      "cell_type": "code",
      "source": [
        "model.summary()"
      ],
      "metadata": {
        "colab": {
          "base_uri": "https://localhost:8080/"
        },
        "id": "JHOAmrhoPWjs",
        "outputId": "fe9b8162-d861-447e-dbcc-1fe509721d8a"
      },
      "execution_count": 65,
      "outputs": [
        {
          "output_type": "stream",
          "name": "stdout",
          "text": [
            "Model: \"sequential_1\"\n",
            "_________________________________________________________________\n",
            " Layer (type)                Output Shape              Param #   \n",
            "=================================================================\n",
            " embedding_1 (Embedding)     (None, 3, 10)             86240     \n",
            "                                                                 \n",
            " lstm_2 (LSTM)               (None, 3, 1000)           4044000   \n",
            "                                                                 \n",
            " lstm_3 (LSTM)               (None, 1000)              8004000   \n",
            "                                                                 \n",
            " dense_2 (Dense)             (None, 1000)              1001000   \n",
            "                                                                 \n",
            " dense_3 (Dense)             (None, 8624)              8632624   \n",
            "                                                                 \n",
            "=================================================================\n",
            "Total params: 21,767,864\n",
            "Trainable params: 21,767,864\n",
            "Non-trainable params: 0\n",
            "_________________________________________________________________\n"
          ]
        }
      ]
    },
    {
      "cell_type": "code",
      "source": [
        "\n",
        "from tensorflow.keras.callbacks import ModelCheckpoint\n",
        "checkpoint=ModelCheckpoint('next_words.h5',monitor='loss',verbose=1,save_best_only=True)\n",
        "model.compile(loss='categorical_crossentropy',optimizer=Adam(learning_rate=0.001))\n",
        "model.fit(X,y,epochs=100,batch_size=64,callbacks=[checkpoint])"
      ],
      "metadata": {
        "colab": {
          "base_uri": "https://localhost:8080/"
        },
        "id": "dlVzSRN9PYpC",
        "outputId": "9e705bc8-1738-4eaa-e272-7edab83210b2"
      },
      "execution_count": 66,
      "outputs": [
        {
          "output_type": "stream",
          "name": "stdout",
          "text": [
            "Epoch 1/100\n",
            "1703/1703 [==============================] - ETA: 0s - loss: 6.3980\n",
            "Epoch 1: loss improved from inf to 6.39797, saving model to next_words.h5\n",
            "1703/1703 [==============================] - 37s 19ms/step - loss: 6.3980\n",
            "Epoch 2/100\n",
            "1703/1703 [==============================] - ETA: 0s - loss: 5.8038\n",
            "Epoch 2: loss improved from 6.39797 to 5.80380, saving model to next_words.h5\n",
            "1703/1703 [==============================] - 26s 16ms/step - loss: 5.8038\n",
            "Epoch 3/100\n",
            "1703/1703 [==============================] - ETA: 0s - loss: 5.4860\n",
            "Epoch 3: loss improved from 5.80380 to 5.48597, saving model to next_words.h5\n",
            "1703/1703 [==============================] - 27s 16ms/step - loss: 5.4860\n",
            "Epoch 4/100\n",
            "1703/1703 [==============================] - ETA: 0s - loss: 5.2320\n",
            "Epoch 4: loss improved from 5.48597 to 5.23199, saving model to next_words.h5\n",
            "1703/1703 [==============================] - 26s 15ms/step - loss: 5.2320\n",
            "Epoch 5/100\n",
            "1703/1703 [==============================] - ETA: 0s - loss: 4.9916\n",
            "Epoch 5: loss improved from 5.23199 to 4.99156, saving model to next_words.h5\n",
            "1703/1703 [==============================] - 27s 16ms/step - loss: 4.9916\n",
            "Epoch 6/100\n",
            "1701/1703 [============================>.] - ETA: 0s - loss: 4.7489\n",
            "Epoch 6: loss improved from 4.99156 to 4.74930, saving model to next_words.h5\n",
            "1703/1703 [==============================] - 27s 16ms/step - loss: 4.7493\n",
            "Epoch 7/100\n",
            "1703/1703 [==============================] - ETA: 0s - loss: 4.5077\n",
            "Epoch 7: loss improved from 4.74930 to 4.50775, saving model to next_words.h5\n",
            "1703/1703 [==============================] - 27s 16ms/step - loss: 4.5077\n",
            "Epoch 8/100\n",
            "1703/1703 [==============================] - ETA: 0s - loss: 4.2653\n",
            "Epoch 8: loss improved from 4.50775 to 4.26531, saving model to next_words.h5\n",
            "1703/1703 [==============================] - 27s 16ms/step - loss: 4.2653\n",
            "Epoch 9/100\n",
            "1702/1703 [============================>.] - ETA: 0s - loss: 4.0193\n",
            "Epoch 9: loss improved from 4.26531 to 4.01941, saving model to next_words.h5\n",
            "1703/1703 [==============================] - 26s 15ms/step - loss: 4.0194\n",
            "Epoch 10/100\n",
            "1700/1703 [============================>.] - ETA: 0s - loss: 3.7707\n",
            "Epoch 10: loss improved from 4.01941 to 3.77072, saving model to next_words.h5\n",
            "1703/1703 [==============================] - 26s 15ms/step - loss: 3.7707\n",
            "Epoch 11/100\n",
            "1703/1703 [==============================] - ETA: 0s - loss: 3.5237\n",
            "Epoch 11: loss improved from 3.77072 to 3.52372, saving model to next_words.h5\n",
            "1703/1703 [==============================] - 27s 16ms/step - loss: 3.5237\n",
            "Epoch 12/100\n",
            "1701/1703 [============================>.] - ETA: 0s - loss: 3.2836\n",
            "Epoch 12: loss improved from 3.52372 to 3.28364, saving model to next_words.h5\n",
            "1703/1703 [==============================] - 27s 16ms/step - loss: 3.2836\n",
            "Epoch 13/100\n",
            "1703/1703 [==============================] - ETA: 0s - loss: 3.0463\n",
            "Epoch 13: loss improved from 3.28364 to 3.04626, saving model to next_words.h5\n",
            "1703/1703 [==============================] - 27s 16ms/step - loss: 3.0463\n",
            "Epoch 14/100\n",
            "1701/1703 [============================>.] - ETA: 0s - loss: 2.8105\n",
            "Epoch 14: loss improved from 3.04626 to 2.81064, saving model to next_words.h5\n",
            "1703/1703 [==============================] - 27s 16ms/step - loss: 2.8106\n",
            "Epoch 15/100\n",
            "1701/1703 [============================>.] - ETA: 0s - loss: 2.5764\n",
            "Epoch 15: loss improved from 2.81064 to 2.57669, saving model to next_words.h5\n",
            "1703/1703 [==============================] - 27s 16ms/step - loss: 2.5767\n",
            "Epoch 16/100\n",
            "1702/1703 [============================>.] - ETA: 0s - loss: 2.3467\n",
            "Epoch 16: loss improved from 2.57669 to 2.34679, saving model to next_words.h5\n",
            "1703/1703 [==============================] - 27s 16ms/step - loss: 2.3468\n",
            "Epoch 17/100\n",
            "1703/1703 [==============================] - ETA: 0s - loss: 2.1170\n",
            "Epoch 17: loss improved from 2.34679 to 2.11696, saving model to next_words.h5\n",
            "1703/1703 [==============================] - 27s 16ms/step - loss: 2.1170\n",
            "Epoch 18/100\n",
            "1703/1703 [==============================] - ETA: 0s - loss: 1.8979\n",
            "Epoch 18: loss improved from 2.11696 to 1.89790, saving model to next_words.h5\n",
            "1703/1703 [==============================] - 27s 16ms/step - loss: 1.8979\n",
            "Epoch 19/100\n",
            "1701/1703 [============================>.] - ETA: 0s - loss: 1.6974\n",
            "Epoch 19: loss improved from 1.89790 to 1.69766, saving model to next_words.h5\n",
            "1703/1703 [==============================] - 27s 16ms/step - loss: 1.6977\n",
            "Epoch 20/100\n",
            "1700/1703 [============================>.] - ETA: 0s - loss: 1.5115\n",
            "Epoch 20: loss improved from 1.69766 to 1.51166, saving model to next_words.h5\n",
            "1703/1703 [==============================] - 27s 16ms/step - loss: 1.5117\n",
            "Epoch 21/100\n",
            "1702/1703 [============================>.] - ETA: 0s - loss: 1.3509\n",
            "Epoch 21: loss improved from 1.51166 to 1.35081, saving model to next_words.h5\n",
            "1703/1703 [==============================] - 27s 16ms/step - loss: 1.3508\n",
            "Epoch 22/100\n",
            "1701/1703 [============================>.] - ETA: 0s - loss: 1.2102\n",
            "Epoch 22: loss improved from 1.35081 to 1.21028, saving model to next_words.h5\n",
            "1703/1703 [==============================] - 27s 16ms/step - loss: 1.2103\n",
            "Epoch 23/100\n",
            "1702/1703 [============================>.] - ETA: 0s - loss: 1.0906\n",
            "Epoch 23: loss improved from 1.21028 to 1.09061, saving model to next_words.h5\n",
            "1703/1703 [==============================] - 27s 16ms/step - loss: 1.0906\n",
            "Epoch 24/100\n",
            "1700/1703 [============================>.] - ETA: 0s - loss: 0.9886\n",
            "Epoch 24: loss improved from 1.09061 to 0.98912, saving model to next_words.h5\n",
            "1703/1703 [==============================] - 27s 16ms/step - loss: 0.9891\n",
            "Epoch 25/100\n",
            "1703/1703 [==============================] - ETA: 0s - loss: 0.9170\n",
            "Epoch 25: loss improved from 0.98912 to 0.91695, saving model to next_words.h5\n",
            "1703/1703 [==============================] - 27s 16ms/step - loss: 0.9170\n",
            "Epoch 26/100\n",
            "1703/1703 [==============================] - ETA: 0s - loss: 0.8491\n",
            "Epoch 26: loss improved from 0.91695 to 0.84914, saving model to next_words.h5\n",
            "1703/1703 [==============================] - 27s 16ms/step - loss: 0.8491\n",
            "Epoch 27/100\n",
            "1700/1703 [============================>.] - ETA: 0s - loss: 0.8000\n",
            "Epoch 27: loss improved from 0.84914 to 0.80005, saving model to next_words.h5\n",
            "1703/1703 [==============================] - 27s 16ms/step - loss: 0.8000\n",
            "Epoch 28/100\n",
            "1703/1703 [==============================] - ETA: 0s - loss: 0.7604\n",
            "Epoch 28: loss improved from 0.80005 to 0.76036, saving model to next_words.h5\n",
            "1703/1703 [==============================] - 27s 16ms/step - loss: 0.7604\n",
            "Epoch 29/100\n",
            "1701/1703 [============================>.] - ETA: 0s - loss: 0.7193\n",
            "Epoch 29: loss improved from 0.76036 to 0.71946, saving model to next_words.h5\n",
            "1703/1703 [==============================] - 27s 16ms/step - loss: 0.7195\n",
            "Epoch 30/100\n",
            "1700/1703 [============================>.] - ETA: 0s - loss: 0.6904\n",
            "Epoch 30: loss improved from 0.71946 to 0.69060, saving model to next_words.h5\n",
            "1703/1703 [==============================] - 27s 16ms/step - loss: 0.6906\n",
            "Epoch 31/100\n",
            "1702/1703 [============================>.] - ETA: 0s - loss: 0.6663\n",
            "Epoch 31: loss improved from 0.69060 to 0.66628, saving model to next_words.h5\n",
            "1703/1703 [==============================] - 27s 16ms/step - loss: 0.6663\n",
            "Epoch 32/100\n",
            "1703/1703 [==============================] - ETA: 0s - loss: 0.6414\n",
            "Epoch 32: loss improved from 0.66628 to 0.64142, saving model to next_words.h5\n",
            "1703/1703 [==============================] - 27s 16ms/step - loss: 0.6414\n",
            "Epoch 33/100\n",
            "1701/1703 [============================>.] - ETA: 0s - loss: 0.6215\n",
            "Epoch 33: loss improved from 0.64142 to 0.62169, saving model to next_words.h5\n",
            "1703/1703 [==============================] - 27s 16ms/step - loss: 0.6217\n",
            "Epoch 34/100\n",
            "1701/1703 [============================>.] - ETA: 0s - loss: 0.6075\n",
            "Epoch 34: loss improved from 0.62169 to 0.60768, saving model to next_words.h5\n",
            "1703/1703 [==============================] - 27s 16ms/step - loss: 0.6077\n",
            "Epoch 35/100\n",
            "1701/1703 [============================>.] - ETA: 0s - loss: 0.5899\n",
            "Epoch 35: loss improved from 0.60768 to 0.58993, saving model to next_words.h5\n",
            "1703/1703 [==============================] - 27s 16ms/step - loss: 0.5899\n",
            "Epoch 36/100\n",
            "1703/1703 [==============================] - ETA: 0s - loss: 0.5760\n",
            "Epoch 36: loss improved from 0.58993 to 0.57599, saving model to next_words.h5\n",
            "1703/1703 [==============================] - 27s 16ms/step - loss: 0.5760\n",
            "Epoch 37/100\n",
            "1700/1703 [============================>.] - ETA: 0s - loss: 0.5673\n",
            "Epoch 37: loss improved from 0.57599 to 0.56733, saving model to next_words.h5\n",
            "1703/1703 [==============================] - 27s 16ms/step - loss: 0.5673\n",
            "Epoch 38/100\n",
            "1703/1703 [==============================] - ETA: 0s - loss: 0.5495\n",
            "Epoch 38: loss improved from 0.56733 to 0.54948, saving model to next_words.h5\n",
            "1703/1703 [==============================] - 27s 16ms/step - loss: 0.5495\n",
            "Epoch 39/100\n",
            "1702/1703 [============================>.] - ETA: 0s - loss: 0.5458\n",
            "Epoch 39: loss improved from 0.54948 to 0.54579, saving model to next_words.h5\n",
            "1703/1703 [==============================] - 27s 16ms/step - loss: 0.5458\n",
            "Epoch 40/100\n",
            "1702/1703 [============================>.] - ETA: 0s - loss: 0.5361\n",
            "Epoch 40: loss improved from 0.54579 to 0.53602, saving model to next_words.h5\n",
            "1703/1703 [==============================] - 27s 16ms/step - loss: 0.5360\n",
            "Epoch 41/100\n",
            "1703/1703 [==============================] - ETA: 0s - loss: 0.5259\n",
            "Epoch 41: loss improved from 0.53602 to 0.52594, saving model to next_words.h5\n",
            "1703/1703 [==============================] - 27s 16ms/step - loss: 0.5259\n",
            "Epoch 42/100\n",
            "1702/1703 [============================>.] - ETA: 0s - loss: 0.5164\n",
            "Epoch 42: loss improved from 0.52594 to 0.51648, saving model to next_words.h5\n",
            "1703/1703 [==============================] - 27s 16ms/step - loss: 0.5165\n",
            "Epoch 43/100\n",
            "1703/1703 [==============================] - ETA: 0s - loss: 0.5130\n",
            "Epoch 43: loss improved from 0.51648 to 0.51297, saving model to next_words.h5\n",
            "1703/1703 [==============================] - 27s 16ms/step - loss: 0.5130\n",
            "Epoch 44/100\n",
            "1702/1703 [============================>.] - ETA: 0s - loss: 0.4994\n",
            "Epoch 44: loss improved from 0.51297 to 0.49954, saving model to next_words.h5\n",
            "1703/1703 [==============================] - 27s 16ms/step - loss: 0.4995\n",
            "Epoch 45/100\n",
            "1701/1703 [============================>.] - ETA: 0s - loss: 0.4943\n",
            "Epoch 45: loss improved from 0.49954 to 0.49452, saving model to next_words.h5\n",
            "1703/1703 [==============================] - 27s 16ms/step - loss: 0.4945\n",
            "Epoch 46/100\n",
            "1701/1703 [============================>.] - ETA: 0s - loss: 0.4875\n",
            "Epoch 46: loss improved from 0.49452 to 0.48756, saving model to next_words.h5\n",
            "1703/1703 [==============================] - 27s 16ms/step - loss: 0.4876\n",
            "Epoch 47/100\n",
            "1703/1703 [==============================] - ETA: 0s - loss: 0.4815\n",
            "Epoch 47: loss improved from 0.48756 to 0.48151, saving model to next_words.h5\n",
            "1703/1703 [==============================] - 27s 16ms/step - loss: 0.4815\n",
            "Epoch 48/100\n",
            "1701/1703 [============================>.] - ETA: 0s - loss: 0.4749\n",
            "Epoch 48: loss improved from 0.48151 to 0.47499, saving model to next_words.h5\n",
            "1703/1703 [==============================] - 27s 16ms/step - loss: 0.4750\n",
            "Epoch 49/100\n",
            "1702/1703 [============================>.] - ETA: 0s - loss: 0.4701\n",
            "Epoch 49: loss improved from 0.47499 to 0.47017, saving model to next_words.h5\n",
            "1703/1703 [==============================] - 27s 16ms/step - loss: 0.4702\n",
            "Epoch 50/100\n",
            "1702/1703 [============================>.] - ETA: 0s - loss: 0.4645\n",
            "Epoch 50: loss improved from 0.47017 to 0.46448, saving model to next_words.h5\n",
            "1703/1703 [==============================] - 27s 16ms/step - loss: 0.4645\n",
            "Epoch 51/100\n",
            "1703/1703 [==============================] - ETA: 0s - loss: 0.4622\n",
            "Epoch 51: loss improved from 0.46448 to 0.46222, saving model to next_words.h5\n",
            "1703/1703 [==============================] - 27s 16ms/step - loss: 0.4622\n",
            "Epoch 52/100\n",
            "1701/1703 [============================>.] - ETA: 0s - loss: 0.4568\n",
            "Epoch 52: loss improved from 0.46222 to 0.45688, saving model to next_words.h5\n",
            "1703/1703 [==============================] - 27s 16ms/step - loss: 0.4569\n",
            "Epoch 53/100\n",
            "1702/1703 [============================>.] - ETA: 0s - loss: 0.4521\n",
            "Epoch 53: loss improved from 0.45688 to 0.45224, saving model to next_words.h5\n",
            "1703/1703 [==============================] - 27s 16ms/step - loss: 0.4522\n",
            "Epoch 54/100\n",
            "1702/1703 [============================>.] - ETA: 0s - loss: 0.4505\n",
            "Epoch 54: loss improved from 0.45224 to 0.45048, saving model to next_words.h5\n",
            "1703/1703 [==============================] - 27s 16ms/step - loss: 0.4505\n",
            "Epoch 55/100\n",
            "1702/1703 [============================>.] - ETA: 0s - loss: 0.4412\n",
            "Epoch 55: loss improved from 0.45048 to 0.44124, saving model to next_words.h5\n",
            "1703/1703 [==============================] - 27s 16ms/step - loss: 0.4412\n",
            "Epoch 56/100\n",
            "1700/1703 [============================>.] - ETA: 0s - loss: 0.4401\n",
            "Epoch 56: loss improved from 0.44124 to 0.44016, saving model to next_words.h5\n",
            "1703/1703 [==============================] - 27s 16ms/step - loss: 0.4402\n",
            "Epoch 57/100\n",
            "1702/1703 [============================>.] - ETA: 0s - loss: 0.4370\n",
            "Epoch 57: loss improved from 0.44016 to 0.43703, saving model to next_words.h5\n",
            "1703/1703 [==============================] - 27s 16ms/step - loss: 0.4370\n",
            "Epoch 58/100\n",
            "1702/1703 [============================>.] - ETA: 0s - loss: 0.4305\n",
            "Epoch 58: loss improved from 0.43703 to 0.43043, saving model to next_words.h5\n",
            "1703/1703 [==============================] - 27s 16ms/step - loss: 0.4304\n",
            "Epoch 59/100\n",
            "1703/1703 [==============================] - ETA: 0s - loss: 0.4303\n",
            "Epoch 59: loss improved from 0.43043 to 0.43034, saving model to next_words.h5\n",
            "1703/1703 [==============================] - 27s 16ms/step - loss: 0.4303\n",
            "Epoch 60/100\n",
            "1703/1703 [==============================] - ETA: 0s - loss: 0.4300\n",
            "Epoch 60: loss improved from 0.43034 to 0.42998, saving model to next_words.h5\n",
            "1703/1703 [==============================] - 27s 16ms/step - loss: 0.4300\n",
            "Epoch 61/100\n",
            "1700/1703 [============================>.] - ETA: 0s - loss: 0.4207\n",
            "Epoch 61: loss improved from 0.42998 to 0.42077, saving model to next_words.h5\n",
            "1703/1703 [==============================] - 27s 16ms/step - loss: 0.4208\n",
            "Epoch 62/100\n",
            "1703/1703 [==============================] - ETA: 0s - loss: 0.4196\n",
            "Epoch 62: loss improved from 0.42077 to 0.41957, saving model to next_words.h5\n",
            "1703/1703 [==============================] - 27s 16ms/step - loss: 0.4196\n",
            "Epoch 63/100\n",
            "1702/1703 [============================>.] - ETA: 0s - loss: 0.4205\n",
            "Epoch 63: loss did not improve from 0.41957\n",
            "1703/1703 [==============================] - 26s 15ms/step - loss: 0.4205\n",
            "Epoch 64/100\n",
            "1701/1703 [============================>.] - ETA: 0s - loss: 0.4149\n",
            "Epoch 64: loss improved from 0.41957 to 0.41493, saving model to next_words.h5\n",
            "1703/1703 [==============================] - 27s 16ms/step - loss: 0.4149\n",
            "Epoch 65/100\n",
            "1703/1703 [==============================] - ETA: 0s - loss: 0.4084\n",
            "Epoch 65: loss improved from 0.41493 to 0.40837, saving model to next_words.h5\n",
            "1703/1703 [==============================] - 27s 16ms/step - loss: 0.4084\n",
            "Epoch 66/100\n",
            "1703/1703 [==============================] - ETA: 0s - loss: 0.4121\n",
            "Epoch 66: loss did not improve from 0.40837\n",
            "1703/1703 [==============================] - 26s 15ms/step - loss: 0.4121\n",
            "Epoch 67/100\n",
            "1703/1703 [==============================] - ETA: 0s - loss: 0.4110\n",
            "Epoch 67: loss did not improve from 0.40837\n",
            "1703/1703 [==============================] - 26s 15ms/step - loss: 0.4110\n",
            "Epoch 68/100\n",
            "1702/1703 [============================>.] - ETA: 0s - loss: 0.4076\n",
            "Epoch 68: loss improved from 0.40837 to 0.40766, saving model to next_words.h5\n",
            "1703/1703 [==============================] - 27s 16ms/step - loss: 0.4077\n",
            "Epoch 69/100\n",
            "1701/1703 [============================>.] - ETA: 0s - loss: 0.4044\n",
            "Epoch 69: loss improved from 0.40766 to 0.40448, saving model to next_words.h5\n",
            "1703/1703 [==============================] - 27s 16ms/step - loss: 0.4045\n",
            "Epoch 70/100\n",
            "1701/1703 [============================>.] - ETA: 0s - loss: 0.4019\n",
            "Epoch 70: loss improved from 0.40448 to 0.40183, saving model to next_words.h5\n",
            "1703/1703 [==============================] - 27s 16ms/step - loss: 0.4018\n",
            "Epoch 71/100\n",
            "1703/1703 [==============================] - ETA: 0s - loss: 0.3975\n",
            "Epoch 71: loss improved from 0.40183 to 0.39749, saving model to next_words.h5\n",
            "1703/1703 [==============================] - 27s 16ms/step - loss: 0.3975\n",
            "Epoch 72/100\n",
            "1703/1703 [==============================] - ETA: 0s - loss: 0.3993\n",
            "Epoch 72: loss did not improve from 0.39749\n",
            "1703/1703 [==============================] - 26s 15ms/step - loss: 0.3993\n",
            "Epoch 73/100\n",
            "1701/1703 [============================>.] - ETA: 0s - loss: 0.3965\n",
            "Epoch 73: loss improved from 0.39749 to 0.39652, saving model to next_words.h5\n",
            "1703/1703 [==============================] - 27s 16ms/step - loss: 0.3965\n",
            "Epoch 74/100\n",
            "1702/1703 [============================>.] - ETA: 0s - loss: 0.3936\n",
            "Epoch 74: loss improved from 0.39652 to 0.39366, saving model to next_words.h5\n",
            "1703/1703 [==============================] - 27s 16ms/step - loss: 0.3937\n",
            "Epoch 75/100\n",
            "1700/1703 [============================>.] - ETA: 0s - loss: 0.3915\n",
            "Epoch 75: loss improved from 0.39366 to 0.39134, saving model to next_words.h5\n",
            "1703/1703 [==============================] - 27s 16ms/step - loss: 0.3913\n",
            "Epoch 76/100\n",
            "1701/1703 [============================>.] - ETA: 0s - loss: 0.3896\n",
            "Epoch 76: loss improved from 0.39134 to 0.38968, saving model to next_words.h5\n",
            "1703/1703 [==============================] - 27s 16ms/step - loss: 0.3897\n",
            "Epoch 77/100\n",
            "1703/1703 [==============================] - ETA: 0s - loss: 0.3872\n",
            "Epoch 77: loss improved from 0.38968 to 0.38719, saving model to next_words.h5\n",
            "1703/1703 [==============================] - 27s 16ms/step - loss: 0.3872\n",
            "Epoch 78/100\n",
            "1701/1703 [============================>.] - ETA: 0s - loss: 0.3843\n",
            "Epoch 78: loss improved from 0.38719 to 0.38432, saving model to next_words.h5\n",
            "1703/1703 [==============================] - 27s 16ms/step - loss: 0.3843\n",
            "Epoch 79/100\n",
            "1701/1703 [============================>.] - ETA: 0s - loss: 0.3926\n",
            "Epoch 79: loss did not improve from 0.38432\n",
            "1703/1703 [==============================] - 26s 15ms/step - loss: 0.3927\n",
            "Epoch 80/100\n",
            "1701/1703 [============================>.] - ETA: 0s - loss: 0.3840\n",
            "Epoch 80: loss improved from 0.38432 to 0.38408, saving model to next_words.h5\n",
            "1703/1703 [==============================] - 27s 16ms/step - loss: 0.3841\n",
            "Epoch 81/100\n",
            "1702/1703 [============================>.] - ETA: 0s - loss: 0.3776\n",
            "Epoch 81: loss improved from 0.38408 to 0.37761, saving model to next_words.h5\n",
            "1703/1703 [==============================] - 27s 16ms/step - loss: 0.3776\n",
            "Epoch 82/100\n",
            "1702/1703 [============================>.] - ETA: 0s - loss: 0.3836\n",
            "Epoch 82: loss did not improve from 0.37761\n",
            "1703/1703 [==============================] - 26s 15ms/step - loss: 0.3837\n",
            "Epoch 83/100\n",
            "1700/1703 [============================>.] - ETA: 0s - loss: 0.3794\n",
            "Epoch 83: loss did not improve from 0.37761\n",
            "1703/1703 [==============================] - 26s 15ms/step - loss: 0.3795\n",
            "Epoch 84/100\n",
            "1701/1703 [============================>.] - ETA: 0s - loss: 0.3752\n",
            "Epoch 84: loss improved from 0.37761 to 0.37513, saving model to next_words.h5\n",
            "1703/1703 [==============================] - 27s 16ms/step - loss: 0.3751\n",
            "Epoch 85/100\n",
            "1702/1703 [============================>.] - ETA: 0s - loss: 0.3804\n",
            "Epoch 85: loss did not improve from 0.37513\n",
            "1703/1703 [==============================] - 26s 15ms/step - loss: 0.3805\n",
            "Epoch 86/100\n",
            "1701/1703 [============================>.] - ETA: 0s - loss: 0.3770\n",
            "Epoch 86: loss did not improve from 0.37513\n",
            "1703/1703 [==============================] - 26s 15ms/step - loss: 0.3771\n",
            "Epoch 87/100\n",
            "1703/1703 [==============================] - ETA: 0s - loss: 0.3707\n",
            "Epoch 87: loss improved from 0.37513 to 0.37072, saving model to next_words.h5\n",
            "1703/1703 [==============================] - 27s 16ms/step - loss: 0.3707\n",
            "Epoch 88/100\n",
            "1701/1703 [============================>.] - ETA: 0s - loss: 0.3737\n",
            "Epoch 88: loss did not improve from 0.37072\n",
            "1703/1703 [==============================] - 26s 15ms/step - loss: 0.3739\n",
            "Epoch 89/100\n",
            "1700/1703 [============================>.] - ETA: 0s - loss: 0.3708\n",
            "Epoch 89: loss did not improve from 0.37072\n",
            "1703/1703 [==============================] - 26s 15ms/step - loss: 0.3708\n",
            "Epoch 90/100\n",
            "1703/1703 [==============================] - ETA: 0s - loss: 0.3683\n",
            "Epoch 90: loss improved from 0.37072 to 0.36826, saving model to next_words.h5\n",
            "1703/1703 [==============================] - 27s 16ms/step - loss: 0.3683\n",
            "Epoch 91/100\n",
            "1702/1703 [============================>.] - ETA: 0s - loss: 0.3721\n",
            "Epoch 91: loss did not improve from 0.36826\n",
            "1703/1703 [==============================] - 26s 15ms/step - loss: 0.3722\n",
            "Epoch 92/100\n",
            "1702/1703 [============================>.] - ETA: 0s - loss: 0.3671\n",
            "Epoch 92: loss improved from 0.36826 to 0.36708, saving model to next_words.h5\n",
            "1703/1703 [==============================] - 27s 16ms/step - loss: 0.3671\n",
            "Epoch 93/100\n",
            "1703/1703 [==============================] - ETA: 0s - loss: 0.3684\n",
            "Epoch 93: loss did not improve from 0.36708\n",
            "1703/1703 [==============================] - 26s 16ms/step - loss: 0.3684\n",
            "Epoch 94/100\n",
            "1700/1703 [============================>.] - ETA: 0s - loss: 0.3640\n",
            "Epoch 94: loss improved from 0.36708 to 0.36399, saving model to next_words.h5\n",
            "1703/1703 [==============================] - 27s 16ms/step - loss: 0.3640\n",
            "Epoch 95/100\n",
            "1703/1703 [==============================] - ETA: 0s - loss: 0.3590\n",
            "Epoch 95: loss improved from 0.36399 to 0.35905, saving model to next_words.h5\n",
            "1703/1703 [==============================] - 27s 16ms/step - loss: 0.3590\n",
            "Epoch 96/100\n",
            "1700/1703 [============================>.] - ETA: 0s - loss: 0.3716\n",
            "Epoch 96: loss did not improve from 0.35905\n",
            "1703/1703 [==============================] - 26s 15ms/step - loss: 0.3717\n",
            "Epoch 97/100\n",
            "1703/1703 [==============================] - ETA: 0s - loss: 0.3632\n",
            "Epoch 97: loss did not improve from 0.35905\n",
            "1703/1703 [==============================] - 26s 15ms/step - loss: 0.3632\n",
            "Epoch 98/100\n",
            "1703/1703 [==============================] - ETA: 0s - loss: 0.3628\n",
            "Epoch 98: loss did not improve from 0.35905\n",
            "1703/1703 [==============================] - 26s 15ms/step - loss: 0.3628\n",
            "Epoch 99/100\n",
            "1701/1703 [============================>.] - ETA: 0s - loss: 0.3561\n",
            "Epoch 99: loss improved from 0.35905 to 0.35610, saving model to next_words.h5\n",
            "1703/1703 [==============================] - 27s 16ms/step - loss: 0.3561\n",
            "Epoch 100/100\n",
            "1700/1703 [============================>.] - ETA: 0s - loss: 0.3589\n",
            "Epoch 100: loss did not improve from 0.35610\n",
            "1703/1703 [==============================] - 26s 16ms/step - loss: 0.3590\n"
          ]
        },
        {
          "output_type": "execute_result",
          "data": {
            "text/plain": [
              "<keras.callbacks.History at 0x7f7979ff71c0>"
            ]
          },
          "metadata": {},
          "execution_count": 66
        }
      ]
    },
    {
      "cell_type": "code",
      "source": [
        "from tensorflow.keras.models import load_model\n",
        "import numpy as np\n",
        "import pickle\n",
        "\n",
        "# Load the model and tokenizer\n",
        "model = load_model('next_words.h5')\n",
        "tokenizer = pickle.load(open('token.pkl', 'rb'))\n",
        "\n",
        "def Predict_Next_Words(model, tokenizer, text):\n",
        "\n",
        "  sequence = tokenizer.texts_to_sequences([text])\n",
        "  sequence = np.array(sequence)\n",
        "  preds = np.argmax(model.predict(sequence))\n",
        "  predicted_word = \"\"\n",
        "  \n",
        "  for key, value in tokenizer.word_index.items():\n",
        "      if value == preds:\n",
        "          predicted_word = key\n",
        "          break\n",
        "  \n",
        "  print(predicted_word)\n",
        "  return predicted_word"
      ],
      "metadata": {
        "id": "0zmv2Of4Peej"
      },
      "execution_count": 67,
      "outputs": []
    },
    {
      "cell_type": "code",
      "source": [
        "while(True):\n",
        "  text = input(\"Enter your line: \")\n",
        "  \n",
        "  if text == \"0\":\n",
        "      print(\"Execution completed.....\")\n",
        "      break\n",
        "  \n",
        "  else:\n",
        "      try:\n",
        "          text = text.split(\" \")\n",
        "          text = text[-3:]\n",
        "          print(text)\n",
        "        \n",
        "          Predict_Next_Words(model, tokenizer, text)\n",
        "          \n",
        "      except Exception as e:\n",
        "        print(\"Error occurred: \",e)\n",
        "        continue"
      ],
      "metadata": {
        "colab": {
          "base_uri": "https://localhost:8080/"
        },
        "id": "mYJEOc59Qnkn",
        "outputId": "8a055119-396a-4e1b-bdd1-7be55a6d9b4a"
      },
      "execution_count": null,
      "outputs": [
        {
          "output_type": "stream",
          "name": "stdout",
          "text": [
            "Enter your line: desire to see\n",
            "['desire', 'to', 'see']\n",
            "1/1 [==============================] - 1s 1s/step\n",
            "what\n",
            "Enter your line: how do you\n",
            "['how', 'do', 'you']\n",
            "1/1 [==============================] - 0s 21ms/step\n",
            "know\n",
            "Enter your line: country walk on\n",
            "['country', 'walk', 'on']\n",
            "1/1 [==============================] - 0s 23ms/step\n",
            "thursday\n",
            "Enter your line: a gentleman who\n",
            "['a', 'gentleman', 'who']\n",
            "1/1 [==============================] - 0s 21ms/step\n",
            "desires\n"
          ]
        }
      ]
    },
    {
      "cell_type": "markdown",
      "source": [],
      "metadata": {
        "id": "bMpLu04fVhNI"
      }
    }
  ]
}